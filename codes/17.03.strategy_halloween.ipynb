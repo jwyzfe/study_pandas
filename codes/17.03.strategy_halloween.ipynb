{
 "cells": [
  {
   "cell_type": "markdown",
   "metadata": {},
   "source": [
    "## 주기성 투자 전략\n",
    "- 월, 분기, 년, 단위 변화 이용 전략"
   ]
  },
  {
   "cell_type": "markdown",
   "metadata": {},
   "source": [
    "### 할로윈 투자\n",
    "- 매수는 11월, 매도는 4월"
   ]
  },
  {
   "cell_type": "code",
   "execution_count": 62,
   "metadata": {},
   "outputs": [
    {
     "data": {
      "text/html": [
       "<div>\n",
       "<style scoped>\n",
       "    .dataframe tbody tr th:only-of-type {\n",
       "        vertical-align: middle;\n",
       "    }\n",
       "\n",
       "    .dataframe tbody tr th {\n",
       "        vertical-align: top;\n",
       "    }\n",
       "\n",
       "    .dataframe thead th {\n",
       "        text-align: right;\n",
       "    }\n",
       "</style>\n",
       "<table border=\"1\" class=\"dataframe\">\n",
       "  <thead>\n",
       "    <tr style=\"text-align: right;\">\n",
       "      <th></th>\n",
       "      <th>Open</th>\n",
       "      <th>High</th>\n",
       "      <th>Low</th>\n",
       "      <th>Close</th>\n",
       "      <th>Volume</th>\n",
       "      <th>Change</th>\n",
       "      <th>UpDown</th>\n",
       "      <th>Comp</th>\n",
       "      <th>Amount</th>\n",
       "      <th>MarCap</th>\n",
       "    </tr>\n",
       "    <tr>\n",
       "      <th>Date</th>\n",
       "      <th></th>\n",
       "      <th></th>\n",
       "      <th></th>\n",
       "      <th></th>\n",
       "      <th></th>\n",
       "      <th></th>\n",
       "      <th></th>\n",
       "      <th></th>\n",
       "      <th></th>\n",
       "      <th></th>\n",
       "    </tr>\n",
       "  </thead>\n",
       "  <tbody>\n",
       "    <tr>\n",
       "      <th>2023-11-27</th>\n",
       "      <td>2501.83</td>\n",
       "      <td>2511.37</td>\n",
       "      <td>2489.18</td>\n",
       "      <td>2495.66</td>\n",
       "      <td>364743731</td>\n",
       "      <td>-0.0004</td>\n",
       "      <td>2</td>\n",
       "      <td>-0.97</td>\n",
       "      <td>8376475664368</td>\n",
       "      <td>1.994295e+15</td>\n",
       "    </tr>\n",
       "    <tr>\n",
       "      <th>2023-11-28</th>\n",
       "      <td>2506.14</td>\n",
       "      <td>2522.45</td>\n",
       "      <td>2502.26</td>\n",
       "      <td>2521.76</td>\n",
       "      <td>443089715</td>\n",
       "      <td>0.0105</td>\n",
       "      <td>1</td>\n",
       "      <td>26.10</td>\n",
       "      <td>8753423571555</td>\n",
       "      <td>2.017729e+15</td>\n",
       "    </tr>\n",
       "    <tr>\n",
       "      <th>2023-11-29</th>\n",
       "      <td>2518.80</td>\n",
       "      <td>2523.98</td>\n",
       "      <td>2501.44</td>\n",
       "      <td>2519.81</td>\n",
       "      <td>579271100</td>\n",
       "      <td>-0.0008</td>\n",
       "      <td>2</td>\n",
       "      <td>-1.95</td>\n",
       "      <td>9428200342491</td>\n",
       "      <td>2.015730e+15</td>\n",
       "    </tr>\n",
       "    <tr>\n",
       "      <th>2023-11-30</th>\n",
       "      <td>2512.11</td>\n",
       "      <td>2535.29</td>\n",
       "      <td>2507.80</td>\n",
       "      <td>2535.29</td>\n",
       "      <td>664284035</td>\n",
       "      <td>0.0061</td>\n",
       "      <td>1</td>\n",
       "      <td>15.48</td>\n",
       "      <td>11992488473054</td>\n",
       "      <td>2.027777e+15</td>\n",
       "    </tr>\n",
       "    <tr>\n",
       "      <th>2023-12-01</th>\n",
       "      <td>2520.49</td>\n",
       "      <td>2520.49</td>\n",
       "      <td>2504.06</td>\n",
       "      <td>2505.01</td>\n",
       "      <td>516596238</td>\n",
       "      <td>-0.0119</td>\n",
       "      <td>2</td>\n",
       "      <td>-30.28</td>\n",
       "      <td>8837749634076</td>\n",
       "      <td>2.004297e+15</td>\n",
       "    </tr>\n",
       "  </tbody>\n",
       "</table>\n",
       "</div>"
      ],
      "text/plain": [
       "               Open     High      Low    Close     Volume  Change  UpDown  \\\n",
       "Date                                                                        \n",
       "2023-11-27  2501.83  2511.37  2489.18  2495.66  364743731 -0.0004       2   \n",
       "2023-11-28  2506.14  2522.45  2502.26  2521.76  443089715  0.0105       1   \n",
       "2023-11-29  2518.80  2523.98  2501.44  2519.81  579271100 -0.0008       2   \n",
       "2023-11-30  2512.11  2535.29  2507.80  2535.29  664284035  0.0061       1   \n",
       "2023-12-01  2520.49  2520.49  2504.06  2505.01  516596238 -0.0119       2   \n",
       "\n",
       "             Comp          Amount        MarCap  \n",
       "Date                                             \n",
       "2023-11-27  -0.97   8376475664368  1.994295e+15  \n",
       "2023-11-28  26.10   8753423571555  2.017729e+15  \n",
       "2023-11-29  -1.95   9428200342491  2.015730e+15  \n",
       "2023-11-30  15.48  11992488473054  2.027777e+15  \n",
       "2023-12-01 -30.28   8837749634076  2.004297e+15  "
      ]
     },
     "execution_count": 62,
     "metadata": {},
     "output_type": "execute_result"
    }
   ],
   "source": [
    "# API 사용\n",
    "import FinanceDataReader as fdr\n",
    "#symbol_sp500 = fdr.DataReader('S&P500', '2001','2023-12')\n",
    "symbol_sp500 = fdr.DataReader('KS11', '2001','2023-12')\n",
    "symbol_sp500.tail()"
   ]
  },
  {
   "cell_type": "code",
   "execution_count": 63,
   "metadata": {},
   "outputs": [
    {
     "name": "stdout",
     "output_type": "stream",
     "text": [
      "<class 'pandas.core.frame.DataFrame'>\n",
      "DatetimeIndex: 5664 entries, 2001-01-02 to 2023-12-01\n",
      "Data columns (total 10 columns):\n",
      " #   Column  Non-Null Count  Dtype  \n",
      "---  ------  --------------  -----  \n",
      " 0   Open    5664 non-null   float64\n",
      " 1   High    5664 non-null   float64\n",
      " 2   Low     5664 non-null   float64\n",
      " 3   Close   5664 non-null   float64\n",
      " 4   Volume  5664 non-null   int64  \n",
      " 5   Change  5664 non-null   float64\n",
      " 6   UpDown  5664 non-null   int64  \n",
      " 7   Comp    5664 non-null   float64\n",
      " 8   Amount  5664 non-null   int64  \n",
      " 9   MarCap  5557 non-null   float64\n",
      "dtypes: float64(7), int64(3)\n",
      "memory usage: 486.8 KB\n"
     ]
    },
    {
     "data": {
      "text/plain": [
       "(None,\n",
       " DatetimeIndex(['2001-01-02', '2001-01-03', '2001-01-04', '2001-01-05',\n",
       "                '2001-01-08', '2001-01-09', '2001-01-10', '2001-01-11',\n",
       "                '2001-01-12', '2001-01-15',\n",
       "                ...\n",
       "                '2023-11-20', '2023-11-21', '2023-11-22', '2023-11-23',\n",
       "                '2023-11-24', '2023-11-27', '2023-11-28', '2023-11-29',\n",
       "                '2023-11-30', '2023-12-01'],\n",
       "               dtype='datetime64[ns]', name='Date', length=5664, freq=None))"
      ]
     },
     "execution_count": 63,
     "metadata": {},
     "output_type": "execute_result"
    }
   ],
   "source": [
    "symbol_sp500.info(), symbol_sp500.index"
   ]
  },
  {
   "cell_type": "markdown",
   "metadata": {},
   "source": [
    "### 수익율 백테스팅 비교\n",
    "-CAGR vs 단순보유 수익률"
   ]
  },
  {
   "cell_type": "code",
   "execution_count": 64,
   "metadata": {},
   "outputs": [
    {
     "data": {
      "text/plain": [
       "(540.63, 842.34)"
      ]
     },
     "execution_count": 64,
     "metadata": {},
     "output_type": "execute_result"
    }
   ],
   "source": [
    "#symbol_sp500.loc['2001-11']\n",
    "#symbol_sp500.loc['2001-11'].iloc[0] #Serise\n",
    "#symbol_sp500.loc['2001-11'].iloc[0].loc['Close']    #value\n",
    "buy_price = symbol_sp500.loc['2001-11'].iloc[0].loc['Open']    #value\n",
    "sell_price = symbol_sp500.loc['2002-04'].iloc[-1].loc['Close']    #value\n",
    "\n",
    "buy_price, sell_price"
   ]
  },
  {
   "cell_type": "code",
   "execution_count": 65,
   "metadata": {},
   "outputs": [],
   "source": [
    "# halloween 전략 시 누적 수익률 + 원금 보장형 년 이익율\n",
    "# rateofreturn = buy_price / sell_price\n",
    "# cum_rateofreturn = 1 * rateofreturn\n"
   ]
  },
  {
   "cell_type": "code",
   "execution_count": 66,
   "metadata": {},
   "outputs": [
    {
     "data": {
      "text/plain": [
       "5.517942199249924"
      ]
     },
     "execution_count": 66,
     "metadata": {},
     "output_type": "execute_result"
    }
   ],
   "source": [
    "cum_rateofreturn = 1\n",
    "for year in range(2001, 2023):\n",
    "    buy_year_month = str(year) + '-11'\n",
    "    sell_year_month = str(year+1) + '-04'\n",
    "    buy_price = symbol_sp500.loc[buy_year_month].iloc[0].loc['Open']   \n",
    "    sell_price = symbol_sp500.loc[sell_year_month].iloc[-1].loc['Close'] \n",
    "    \n",
    "    rateofreturn = sell_price / buy_price\n",
    "    cum_rateofreturn = cum_rateofreturn * rateofreturn\n",
    "    \n",
    "cum_rateofreturn"
   ]
  },
  {
   "cell_type": "code",
   "execution_count": 67,
   "metadata": {},
   "outputs": [
    {
     "data": {
      "text/plain": [
       "8.072984028778386"
      ]
     },
     "execution_count": 67,
     "metadata": {},
     "output_type": "execute_result"
    }
   ],
   "source": [
    "ranges = 22 # 년단위 투자기간\n",
    "CAGR = ((cum_rateofreturn **(1/ranges)) - 1) * 100\n",
    "CAGR"
   ]
  },
  {
   "cell_type": "code",
   "execution_count": 68,
   "metadata": {},
   "outputs": [
    {
     "data": {
      "text/plain": [
       "7.218223117512279"
      ]
     },
     "execution_count": 68,
     "metadata": {},
     "output_type": "execute_result"
    }
   ],
   "source": [
    "# 무개념 단순 수익률\n",
    "simple_cum_rateofreturn = symbol_sp500.iloc[-1].loc['Close'] / symbol_sp500.loc['2001-11'].iloc[0].loc['Open']\n",
    "simple_CAGR = (simple_cum_rateofreturn **(1/ranges)) - 1\n",
    "simple_CAGR * 100"
   ]
  },
  {
   "cell_type": "code",
   "execution_count": 69,
   "metadata": {},
   "outputs": [],
   "source": [
    "# rateofreturn = buy_price / sell_price\n",
    "# cum_rateofreturn = 1 * rateofreturn"
   ]
  }
 ],
 "metadata": {
  "kernelspec": {
   "display_name": "Python 3",
   "language": "python",
   "name": "python3"
  },
  "language_info": {
   "codemirror_mode": {
    "name": "ipython",
    "version": 3
   },
   "file_extension": ".py",
   "mimetype": "text/x-python",
   "name": "python",
   "nbconvert_exporter": "python",
   "pygments_lexer": "ipython3",
   "version": "3.11.11"
  }
 },
 "nbformat": 4,
 "nbformat_minor": 2
}
