{
 "cells": [
  {
   "cell_type": "code",
   "execution_count": 59,
   "metadata": {},
   "outputs": [],
   "source": [
    "import pandas as pd"
   ]
  },
  {
   "cell_type": "code",
   "execution_count": 60,
   "metadata": {},
   "outputs": [],
   "source": [
    "from pymongo import MongoClient"
   ]
  },
  {
   "cell_type": "code",
   "execution_count": 68,
   "metadata": {},
   "outputs": [],
   "source": [
    "client = MongoClient('mongodb://python_jupyternote_mongo-mongodb-1:27017/pandas_db')\n",
    "\n",
    "db_name = client['pandas_db']"
   ]
  },
  {
   "cell_type": "code",
   "execution_count": 69,
   "metadata": {},
   "outputs": [],
   "source": [
    "quest_collection = db_name['phone_list']"
   ]
  },
  {
   "cell_type": "code",
   "execution_count": 70,
   "metadata": {},
   "outputs": [],
   "source": [
    "mine_collection = db_name['mine']"
   ]
  },
  {
   "cell_type": "code",
   "execution_count": 71,
   "metadata": {},
   "outputs": [],
   "source": [
    "search_conditions = { \n",
    "    \"item\": \"call\",  \n",
    "    \"network\": \"tesco\",\n",
    "    \"network_type\" : \"mobile\"\n",
    "}"
   ]
  },
  {
   "cell_type": "code",
   "execution_count": 72,
   "metadata": {},
   "outputs": [],
   "source": [
    "find_data = quest_collection.find(search_conditions)  \n",
    "quest_data = list(find_data)   "
   ]
  },
  {
   "cell_type": "code",
   "execution_count": 80,
   "metadata": {},
   "outputs": [],
   "source": [
    "result = mine_collection.insert_many(quest_data)"
   ]
  },
  {
   "cell_type": "code",
   "execution_count": 83,
   "metadata": {},
   "outputs": [],
   "source": [
    "find_data_all = quest_collection.find()  # 모든 데이터 검색\n",
    "quest_data_all = list(find_data_all)"
   ]
  },
  {
   "cell_type": "code",
   "execution_count": 87,
   "metadata": {},
   "outputs": [],
   "source": [
    "df_quest_list = pd.DataFrame(quest_data)"
   ]
  },
  {
   "cell_type": "code",
   "execution_count": 88,
   "metadata": {},
   "outputs": [
    {
     "name": "stdout",
     "output_type": "stream",
     "text": [
      "<class 'pandas.core.frame.DataFrame'>\n",
      "RangeIndex: 15 entries, 0 to 14\n",
      "Data columns (total 8 columns):\n",
      " #   Column        Non-Null Count  Dtype  \n",
      "---  ------        --------------  -----  \n",
      " 0   _id           15 non-null     object \n",
      " 1   index         15 non-null     int64  \n",
      " 2   date          15 non-null     object \n",
      " 3   duration      15 non-null     float64\n",
      " 4   item          15 non-null     object \n",
      " 5   month         15 non-null     object \n",
      " 6   network       15 non-null     object \n",
      " 7   network_type  15 non-null     object \n",
      "dtypes: float64(1), int64(1), object(6)\n",
      "memory usage: 1.1+ KB\n"
     ]
    }
   ],
   "source": [
    "df_quest_list.info()"
   ]
  },
  {
   "cell_type": "code",
   "execution_count": 93,
   "metadata": {},
   "outputs": [
    {
     "data": {
      "text/html": [
       "<div>\n",
       "<style scoped>\n",
       "    .dataframe tbody tr th:only-of-type {\n",
       "        vertical-align: middle;\n",
       "    }\n",
       "\n",
       "    .dataframe tbody tr th {\n",
       "        vertical-align: top;\n",
       "    }\n",
       "\n",
       "    .dataframe thead th {\n",
       "        text-align: right;\n",
       "    }\n",
       "</style>\n",
       "<table border=\"1\" class=\"dataframe\">\n",
       "  <thead>\n",
       "    <tr style=\"text-align: right;\">\n",
       "      <th></th>\n",
       "      <th>item</th>\n",
       "      <th>network</th>\n",
       "      <th>network_type</th>\n",
       "    </tr>\n",
       "  </thead>\n",
       "  <tbody>\n",
       "    <tr>\n",
       "      <th>count</th>\n",
       "      <td>15</td>\n",
       "      <td>15</td>\n",
       "      <td>15</td>\n",
       "    </tr>\n",
       "    <tr>\n",
       "      <th>unique</th>\n",
       "      <td>2</td>\n",
       "      <td>4</td>\n",
       "      <td>2</td>\n",
       "    </tr>\n",
       "    <tr>\n",
       "      <th>top</th>\n",
       "      <td>call</td>\n",
       "      <td>Tesco</td>\n",
       "      <td>mobile</td>\n",
       "    </tr>\n",
       "    <tr>\n",
       "      <th>freq</th>\n",
       "      <td>12</td>\n",
       "      <td>6</td>\n",
       "      <td>12</td>\n",
       "    </tr>\n",
       "  </tbody>\n",
       "</table>\n",
       "</div>"
      ],
      "text/plain": [
       "        item network network_type\n",
       "count     15      15           15\n",
       "unique     2       4            2\n",
       "top     call   Tesco       mobile\n",
       "freq      12       6           12"
      ]
     },
     "execution_count": 93,
     "metadata": {},
     "output_type": "execute_result"
    }
   ],
   "source": [
    "df_quest_list[['item', 'network', 'network_type']].describe(include='object')"
   ]
  },
  {
   "cell_type": "code",
   "execution_count": 90,
   "metadata": {},
   "outputs": [],
   "source": [
    "data_to_insert = df_quest_list.to_dict(orient='records')"
   ]
  },
  {
   "cell_type": "code",
   "execution_count": 77,
   "metadata": {},
   "outputs": [
    {
     "data": {
      "text/plain": [
       "[{'_id': ObjectId('675b8ded4c8ebb511505b3d5'),\n",
       "  'index': 0,\n",
       "  'date': '15/10/14 06:58',\n",
       "  'duration': 34.429,\n",
       "  'item': 'data',\n",
       "  'month': '2014-11',\n",
       "  'network': 'data',\n",
       "  'network_type': 'data'},\n",
       " {'_id': ObjectId('675b8ded4c8ebb511505b3d6'),\n",
       "  'index': 1,\n",
       "  'date': '15/10/14 06:58',\n",
       "  'duration': 13.0,\n",
       "  'item': 'call',\n",
       "  'month': '2014-11',\n",
       "  'network': 'Vodafone',\n",
       "  'network_type': 'mobile'},\n",
       " {'_id': ObjectId('675b8ded4c8ebb511505b3d7'),\n",
       "  'index': 2,\n",
       "  'date': '15/10/14 14:46',\n",
       "  'duration': 23.0,\n",
       "  'item': 'call',\n",
       "  'month': '2014-11',\n",
       "  'network': 'Meteor',\n",
       "  'network_type': 'mobile'},\n",
       " {'_id': ObjectId('675b8ded4c8ebb511505b3d8'),\n",
       "  'index': 3,\n",
       "  'date': '15/10/14 14:48',\n",
       "  'duration': 4.0,\n",
       "  'item': 'call',\n",
       "  'month': '2014-11',\n",
       "  'network': 'Tesco',\n",
       "  'network_type': 'mobile'},\n",
       " {'_id': ObjectId('675b8ded4c8ebb511505b3d9'),\n",
       "  'index': 4,\n",
       "  'date': '15/10/14 17:27',\n",
       "  'duration': 4.0,\n",
       "  'item': 'call',\n",
       "  'month': '2014-11',\n",
       "  'network': 'Tesco',\n",
       "  'network_type': 'mobile'},\n",
       " {'_id': ObjectId('675b8fef4c8ebb511505b3db'),\n",
       "  'index': 0,\n",
       "  'date': '15/10/14 06:58',\n",
       "  'duration': 34.429,\n",
       "  'item': 'data',\n",
       "  'month': '2014-11',\n",
       "  'network': 'data',\n",
       "  'network_type': 'data'},\n",
       " {'_id': ObjectId('675b8fef4c8ebb511505b3dc'),\n",
       "  'index': 1,\n",
       "  'date': '15/10/14 06:58',\n",
       "  'duration': 13.0,\n",
       "  'item': 'call',\n",
       "  'month': '2014-11',\n",
       "  'network': 'Vodafone',\n",
       "  'network_type': 'mobile'},\n",
       " {'_id': ObjectId('675b8fef4c8ebb511505b3dd'),\n",
       "  'index': 2,\n",
       "  'date': '15/10/14 14:46',\n",
       "  'duration': 23.0,\n",
       "  'item': 'call',\n",
       "  'month': '2014-11',\n",
       "  'network': 'Meteor',\n",
       "  'network_type': 'mobile'},\n",
       " {'_id': ObjectId('675b8fef4c8ebb511505b3de'),\n",
       "  'index': 3,\n",
       "  'date': '15/10/14 14:48',\n",
       "  'duration': 4.0,\n",
       "  'item': 'call',\n",
       "  'month': '2014-11',\n",
       "  'network': 'Tesco',\n",
       "  'network_type': 'mobile'},\n",
       " {'_id': ObjectId('675b8fef4c8ebb511505b3df'),\n",
       "  'index': 4,\n",
       "  'date': '15/10/14 17:27',\n",
       "  'duration': 4.0,\n",
       "  'item': 'call',\n",
       "  'month': '2014-11',\n",
       "  'network': 'Tesco',\n",
       "  'network_type': 'mobile'},\n",
       " {'_id': ObjectId('675b92284c8ebb511505b3e1'),\n",
       "  'index': 0,\n",
       "  'date': '15/10/14 06:58',\n",
       "  'duration': 34.429,\n",
       "  'item': 'data',\n",
       "  'month': '2014-11',\n",
       "  'network': 'data',\n",
       "  'network_type': 'data'},\n",
       " {'_id': ObjectId('675b92284c8ebb511505b3e2'),\n",
       "  'index': 1,\n",
       "  'date': '15/10/14 06:58',\n",
       "  'duration': 13.0,\n",
       "  'item': 'call',\n",
       "  'month': '2014-11',\n",
       "  'network': 'Vodafone',\n",
       "  'network_type': 'mobile'},\n",
       " {'_id': ObjectId('675b92284c8ebb511505b3e3'),\n",
       "  'index': 2,\n",
       "  'date': '15/10/14 14:46',\n",
       "  'duration': 23.0,\n",
       "  'item': 'call',\n",
       "  'month': '2014-11',\n",
       "  'network': 'Meteor',\n",
       "  'network_type': 'mobile'},\n",
       " {'_id': ObjectId('675b92284c8ebb511505b3e4'),\n",
       "  'index': 3,\n",
       "  'date': '15/10/14 14:48',\n",
       "  'duration': 4.0,\n",
       "  'item': 'call',\n",
       "  'month': '2014-11',\n",
       "  'network': 'Tesco',\n",
       "  'network_type': 'mobile'},\n",
       " {'_id': ObjectId('675b92284c8ebb511505b3e5'),\n",
       "  'index': 4,\n",
       "  'date': '15/10/14 17:27',\n",
       "  'duration': 4.0,\n",
       "  'item': 'call',\n",
       "  'month': '2014-11',\n",
       "  'network': 'Tesco',\n",
       "  'network_type': 'mobile'}]"
      ]
     },
     "execution_count": 77,
     "metadata": {},
     "output_type": "execute_result"
    }
   ],
   "source": [
    "quest_collection.insert_many(data_to_insert)"
   ]
  },
  {
   "cell_type": "code",
   "execution_count": 78,
   "metadata": {},
   "outputs": [],
   "source": [
    "df_phone_list = pd.DataFrame(quest_data)"
   ]
  },
  {
   "cell_type": "code",
   "execution_count": 79,
   "metadata": {},
   "outputs": [
    {
     "name": "stdout",
     "output_type": "stream",
     "text": [
      "<class 'pandas.core.frame.DataFrame'>\n",
      "RangeIndex: 15 entries, 0 to 14\n",
      "Data columns (total 8 columns):\n",
      " #   Column        Non-Null Count  Dtype  \n",
      "---  ------        --------------  -----  \n",
      " 0   _id           15 non-null     object \n",
      " 1   index         15 non-null     int64  \n",
      " 2   date          15 non-null     object \n",
      " 3   duration      15 non-null     float64\n",
      " 4   item          15 non-null     object \n",
      " 5   month         15 non-null     object \n",
      " 6   network       15 non-null     object \n",
      " 7   network_type  15 non-null     object \n",
      "dtypes: float64(1), int64(1), object(6)\n",
      "memory usage: 1.1+ KB\n"
     ]
    }
   ],
   "source": [
    "df_phone_list.info()\n",
    "##"
   ]
  }
 ],
 "metadata": {
  "kernelspec": {
   "display_name": "Python 3",
   "language": "python",
   "name": "python3"
  },
  "language_info": {
   "codemirror_mode": {
    "name": "ipython",
    "version": 3
   },
   "file_extension": ".py",
   "mimetype": "text/x-python",
   "name": "python",
   "nbconvert_exporter": "python",
   "pygments_lexer": "ipython3",
   "version": "3.11.11"
  }
 },
 "nbformat": 4,
 "nbformat_minor": 2
}
