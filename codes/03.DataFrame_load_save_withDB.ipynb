{
 "cells": [
  {
   "cell_type": "markdown",
   "metadata": {},
   "source": [
    "## DB에 임시데이터 입력"
   ]
  },
  {
   "cell_type": "code",
   "execution_count": 32,
   "metadata": {},
   "outputs": [],
   "source": [
    "from pymongo import MongoClient"
   ]
  },
  {
   "cell_type": "code",
   "execution_count": 33,
   "metadata": {},
   "outputs": [],
   "source": [
    "#네트워크 연결 규칙: 어떤 형식/어떤 컴퓨터/ 어떤 응용프로그램/어떤 function or Database\n",
    "client = MongoClient('mongodb://python_jupyternote_mongo-mongodb-1:27017/pandas_db')\n",
    "\n",
    "db_name = client['pandas_db']"
   ]
  },
  {
   "cell_type": "code",
   "execution_count": 34,
   "metadata": {},
   "outputs": [
    {
     "data": {
      "text/plain": [
       "pymongo.synchronous.database.Database"
      ]
     },
     "execution_count": 34,
     "metadata": {},
     "output_type": "execute_result"
    }
   ],
   "source": [
    "type(db_name)"
   ]
  },
  {
   "cell_type": "code",
   "execution_count": 35,
   "metadata": {},
   "outputs": [
    {
     "data": {
      "text/plain": [
       "pymongo.synchronous.collection.Collection"
      ]
     },
     "execution_count": 35,
     "metadata": {},
     "output_type": "execute_result"
    }
   ],
   "source": [
    "phone_collection = db_name['phone_list']\n",
    "type(phone_collection)"
   ]
  },
  {
   "cell_type": "code",
   "execution_count": 36,
   "metadata": {},
   "outputs": [],
   "source": [
    "data = [ {\"index\": 0, \"date\": \"15/10/14 06:58\", \"duration\": 34.429, \"item\": \"data\", \"month\": \"2014-11\", \"network\": \"data\", \"network_type\": \"data\"}\n",
    "        , {\"index\": 1, \"date\": \"15/10/14 06:58\", \"duration\": 13.000, \"item\": \"call\", \"month\": \"2014-11\", \"network\": \"Vodafone\", \"network_type\": \"mobile\"}\n",
    "        , {\"index\": 2, \"date\": \"15/10/14 14:46\", \"duration\": 23.000, \"item\": \"call\", \"month\": \"2014-11\", \"network\": \"Meteor\", \"network_type\": \"mobile\"}\n",
    "        , {\"index\": 3, \"date\": \"15/10/14 14:48\", \"duration\": 4.000, \"item\": \"call\", \"month\": \"2014-11\", \"network\": \"Tesco\", \"network_type\": \"mobile\"}\n",
    "        , {\"index\": 4, \"date\": \"15/10/14 17:27\", \"duration\": 4.000, \"item\": \"call\", \"month\": \"2014-11\", \"network\": \"Tesco\", \"network_type\": \"mobile\"} ]"
   ]
  },
  {
   "cell_type": "code",
   "execution_count": 37,
   "metadata": {},
   "outputs": [],
   "source": [
    "result = phone_collection.insert_many(data)"
   ]
  },
  {
   "cell_type": "code",
   "execution_count": 38,
   "metadata": {},
   "outputs": [
    {
     "data": {
      "text/plain": [
       "[ObjectId('675b92284c8ebb511505b3e1'),\n",
       " ObjectId('675b92284c8ebb511505b3e2'),\n",
       " ObjectId('675b92284c8ebb511505b3e3'),\n",
       " ObjectId('675b92284c8ebb511505b3e4'),\n",
       " ObjectId('675b92284c8ebb511505b3e5')]"
      ]
     },
     "execution_count": 38,
     "metadata": {},
     "output_type": "execute_result"
    }
   ],
   "source": [
    "result.inserted_ids"
   ]
  },
  {
   "cell_type": "markdown",
   "metadata": {},
   "source": [
    "## load from DB"
   ]
  },
  {
   "cell_type": "code",
   "execution_count": 39,
   "metadata": {},
   "outputs": [
    {
     "data": {
      "text/plain": [
       "pymongo.synchronous.cursor.Cursor"
      ]
     },
     "execution_count": 39,
     "metadata": {},
     "output_type": "execute_result"
    }
   ],
   "source": [
    "find_data = phone_collection.find()\n",
    "type(find_data)"
   ]
  },
  {
   "cell_type": "code",
   "execution_count": 40,
   "metadata": {},
   "outputs": [
    {
     "data": {
      "text/plain": [
       "[{'_id': ObjectId('675b8ded4c8ebb511505b3d5'),\n",
       "  'index': 0,\n",
       "  'date': '15/10/14 06:58',\n",
       "  'duration': 34.429,\n",
       "  'item': 'data',\n",
       "  'month': '2014-11',\n",
       "  'network': 'data',\n",
       "  'network_type': 'data'},\n",
       " {'_id': ObjectId('675b8ded4c8ebb511505b3d6'),\n",
       "  'index': 1,\n",
       "  'date': '15/10/14 06:58',\n",
       "  'duration': 13.0,\n",
       "  'item': 'call',\n",
       "  'month': '2014-11',\n",
       "  'network': 'Vodafone',\n",
       "  'network_type': 'mobile'},\n",
       " {'_id': ObjectId('675b8ded4c8ebb511505b3d7'),\n",
       "  'index': 2,\n",
       "  'date': '15/10/14 14:46',\n",
       "  'duration': 23.0,\n",
       "  'item': 'call',\n",
       "  'month': '2014-11',\n",
       "  'network': 'Meteor',\n",
       "  'network_type': 'mobile'},\n",
       " {'_id': ObjectId('675b8ded4c8ebb511505b3d8'),\n",
       "  'index': 3,\n",
       "  'date': '15/10/14 14:48',\n",
       "  'duration': 4.0,\n",
       "  'item': 'call',\n",
       "  'month': '2014-11',\n",
       "  'network': 'Tesco',\n",
       "  'network_type': 'mobile'},\n",
       " {'_id': ObjectId('675b8ded4c8ebb511505b3d9'),\n",
       "  'index': 4,\n",
       "  'date': '15/10/14 17:27',\n",
       "  'duration': 4.0,\n",
       "  'item': 'call',\n",
       "  'month': '2014-11',\n",
       "  'network': 'Tesco',\n",
       "  'network_type': 'mobile'},\n",
       " {'_id': ObjectId('675b8fef4c8ebb511505b3db'),\n",
       "  'index': 0,\n",
       "  'date': '15/10/14 06:58',\n",
       "  'duration': 34.429,\n",
       "  'item': 'data',\n",
       "  'month': '2014-11',\n",
       "  'network': 'data',\n",
       "  'network_type': 'data'},\n",
       " {'_id': ObjectId('675b8fef4c8ebb511505b3dc'),\n",
       "  'index': 1,\n",
       "  'date': '15/10/14 06:58',\n",
       "  'duration': 13.0,\n",
       "  'item': 'call',\n",
       "  'month': '2014-11',\n",
       "  'network': 'Vodafone',\n",
       "  'network_type': 'mobile'},\n",
       " {'_id': ObjectId('675b8fef4c8ebb511505b3dd'),\n",
       "  'index': 2,\n",
       "  'date': '15/10/14 14:46',\n",
       "  'duration': 23.0,\n",
       "  'item': 'call',\n",
       "  'month': '2014-11',\n",
       "  'network': 'Meteor',\n",
       "  'network_type': 'mobile'},\n",
       " {'_id': ObjectId('675b8fef4c8ebb511505b3de'),\n",
       "  'index': 3,\n",
       "  'date': '15/10/14 14:48',\n",
       "  'duration': 4.0,\n",
       "  'item': 'call',\n",
       "  'month': '2014-11',\n",
       "  'network': 'Tesco',\n",
       "  'network_type': 'mobile'},\n",
       " {'_id': ObjectId('675b8fef4c8ebb511505b3df'),\n",
       "  'index': 4,\n",
       "  'date': '15/10/14 17:27',\n",
       "  'duration': 4.0,\n",
       "  'item': 'call',\n",
       "  'month': '2014-11',\n",
       "  'network': 'Tesco',\n",
       "  'network_type': 'mobile'},\n",
       " {'_id': ObjectId('675b92284c8ebb511505b3e1'),\n",
       "  'index': 0,\n",
       "  'date': '15/10/14 06:58',\n",
       "  'duration': 34.429,\n",
       "  'item': 'data',\n",
       "  'month': '2014-11',\n",
       "  'network': 'data',\n",
       "  'network_type': 'data'},\n",
       " {'_id': ObjectId('675b92284c8ebb511505b3e2'),\n",
       "  'index': 1,\n",
       "  'date': '15/10/14 06:58',\n",
       "  'duration': 13.0,\n",
       "  'item': 'call',\n",
       "  'month': '2014-11',\n",
       "  'network': 'Vodafone',\n",
       "  'network_type': 'mobile'},\n",
       " {'_id': ObjectId('675b92284c8ebb511505b3e3'),\n",
       "  'index': 2,\n",
       "  'date': '15/10/14 14:46',\n",
       "  'duration': 23.0,\n",
       "  'item': 'call',\n",
       "  'month': '2014-11',\n",
       "  'network': 'Meteor',\n",
       "  'network_type': 'mobile'},\n",
       " {'_id': ObjectId('675b92284c8ebb511505b3e4'),\n",
       "  'index': 3,\n",
       "  'date': '15/10/14 14:48',\n",
       "  'duration': 4.0,\n",
       "  'item': 'call',\n",
       "  'month': '2014-11',\n",
       "  'network': 'Tesco',\n",
       "  'network_type': 'mobile'},\n",
       " {'_id': ObjectId('675b92284c8ebb511505b3e5'),\n",
       "  'index': 4,\n",
       "  'date': '15/10/14 17:27',\n",
       "  'duration': 4.0,\n",
       "  'item': 'call',\n",
       "  'month': '2014-11',\n",
       "  'network': 'Tesco',\n",
       "  'network_type': 'mobile'}]"
      ]
     },
     "execution_count": 40,
     "metadata": {},
     "output_type": "execute_result"
    }
   ],
   "source": [
    "phone_data = list(find_data)\n",
    "phone_data"
   ]
  },
  {
   "cell_type": "code",
   "execution_count": 41,
   "metadata": {},
   "outputs": [],
   "source": [
    "import pandas as pd"
   ]
  },
  {
   "cell_type": "code",
   "execution_count": 42,
   "metadata": {},
   "outputs": [
    {
     "ename": "TypeError",
     "evalue": "DataFrame.__init__() got an unexpected keyword argument 'use_cols'",
     "output_type": "error",
     "traceback": [
      "\u001b[0;31m---------------------------------------------------------------------------\u001b[0m",
      "\u001b[0;31mTypeError\u001b[0m                                 Traceback (most recent call last)",
      "Cell \u001b[0;32mIn[42], line 1\u001b[0m\n\u001b[0;32m----> 1\u001b[0m df_phone_list \u001b[38;5;241m=\u001b[39m \u001b[43mpd\u001b[49m\u001b[38;5;241;43m.\u001b[39;49m\u001b[43mDataFrame\u001b[49m\u001b[43m(\u001b[49m\u001b[43mphone_data\u001b[49m\u001b[43m,\u001b[49m\u001b[43muse_cols\u001b[49m\u001b[38;5;241;43m=\u001b[39;49m\u001b[43m[\u001b[49m\u001b[38;5;241;43m1\u001b[39;49m\u001b[43m,\u001b[49m\u001b[38;5;241;43m2\u001b[39;49m\u001b[43m,\u001b[49m\u001b[38;5;241;43m3\u001b[39;49m\u001b[43m]\u001b[49m\u001b[43m)\u001b[49m\n",
      "\u001b[0;31mTypeError\u001b[0m: DataFrame.__init__() got an unexpected keyword argument 'use_cols'"
     ]
    }
   ],
   "source": [
    "df_phone_list = pd.DataFrame(phone_data,use_cols=[1,2,3])"
   ]
  },
  {
   "cell_type": "code",
   "execution_count": 27,
   "metadata": {},
   "outputs": [
    {
     "name": "stdout",
     "output_type": "stream",
     "text": [
      "<class 'pandas.core.frame.DataFrame'>\n",
      "RangeIndex: 10 entries, 0 to 9\n",
      "Data columns (total 8 columns):\n",
      " #   Column        Non-Null Count  Dtype  \n",
      "---  ------        --------------  -----  \n",
      " 0   _id           10 non-null     object \n",
      " 1   index         10 non-null     int64  \n",
      " 2   date          10 non-null     object \n",
      " 3   duration      10 non-null     float64\n",
      " 4   item          10 non-null     object \n",
      " 5   month         10 non-null     object \n",
      " 6   network       10 non-null     object \n",
      " 7   network_type  10 non-null     object \n",
      "dtypes: float64(1), int64(1), object(6)\n",
      "memory usage: 772.0+ bytes\n"
     ]
    }
   ],
   "source": [
    "df_phone_list.info()"
   ]
  },
  {
   "cell_type": "code",
   "execution_count": 29,
   "metadata": {},
   "outputs": [
    {
     "data": {
      "text/html": [
       "<div>\n",
       "<style scoped>\n",
       "    .dataframe tbody tr th:only-of-type {\n",
       "        vertical-align: middle;\n",
       "    }\n",
       "\n",
       "    .dataframe tbody tr th {\n",
       "        vertical-align: top;\n",
       "    }\n",
       "\n",
       "    .dataframe thead th {\n",
       "        text-align: right;\n",
       "    }\n",
       "</style>\n",
       "<table border=\"1\" class=\"dataframe\">\n",
       "  <thead>\n",
       "    <tr style=\"text-align: right;\">\n",
       "      <th></th>\n",
       "      <th>_id</th>\n",
       "      <th>index</th>\n",
       "      <th>date</th>\n",
       "      <th>duration</th>\n",
       "      <th>item</th>\n",
       "      <th>month</th>\n",
       "      <th>network</th>\n",
       "      <th>network_type</th>\n",
       "    </tr>\n",
       "  </thead>\n",
       "  <tbody>\n",
       "    <tr>\n",
       "      <th>count</th>\n",
       "      <td>10</td>\n",
       "      <td>10.000000</td>\n",
       "      <td>10</td>\n",
       "      <td>10.000000</td>\n",
       "      <td>10</td>\n",
       "      <td>10</td>\n",
       "      <td>10</td>\n",
       "      <td>10</td>\n",
       "    </tr>\n",
       "    <tr>\n",
       "      <th>unique</th>\n",
       "      <td>10</td>\n",
       "      <td>NaN</td>\n",
       "      <td>4</td>\n",
       "      <td>NaN</td>\n",
       "      <td>2</td>\n",
       "      <td>1</td>\n",
       "      <td>4</td>\n",
       "      <td>2</td>\n",
       "    </tr>\n",
       "    <tr>\n",
       "      <th>top</th>\n",
       "      <td>675b8ded4c8ebb511505b3d5</td>\n",
       "      <td>NaN</td>\n",
       "      <td>15/10/14 06:58</td>\n",
       "      <td>NaN</td>\n",
       "      <td>call</td>\n",
       "      <td>2014-11</td>\n",
       "      <td>Tesco</td>\n",
       "      <td>mobile</td>\n",
       "    </tr>\n",
       "    <tr>\n",
       "      <th>freq</th>\n",
       "      <td>1</td>\n",
       "      <td>NaN</td>\n",
       "      <td>4</td>\n",
       "      <td>NaN</td>\n",
       "      <td>8</td>\n",
       "      <td>10</td>\n",
       "      <td>4</td>\n",
       "      <td>8</td>\n",
       "    </tr>\n",
       "    <tr>\n",
       "      <th>mean</th>\n",
       "      <td>NaN</td>\n",
       "      <td>2.000000</td>\n",
       "      <td>NaN</td>\n",
       "      <td>15.685800</td>\n",
       "      <td>NaN</td>\n",
       "      <td>NaN</td>\n",
       "      <td>NaN</td>\n",
       "      <td>NaN</td>\n",
       "    </tr>\n",
       "    <tr>\n",
       "      <th>std</th>\n",
       "      <td>NaN</td>\n",
       "      <td>1.490712</td>\n",
       "      <td>NaN</td>\n",
       "      <td>12.339048</td>\n",
       "      <td>NaN</td>\n",
       "      <td>NaN</td>\n",
       "      <td>NaN</td>\n",
       "      <td>NaN</td>\n",
       "    </tr>\n",
       "    <tr>\n",
       "      <th>min</th>\n",
       "      <td>NaN</td>\n",
       "      <td>0.000000</td>\n",
       "      <td>NaN</td>\n",
       "      <td>4.000000</td>\n",
       "      <td>NaN</td>\n",
       "      <td>NaN</td>\n",
       "      <td>NaN</td>\n",
       "      <td>NaN</td>\n",
       "    </tr>\n",
       "    <tr>\n",
       "      <th>25%</th>\n",
       "      <td>NaN</td>\n",
       "      <td>1.000000</td>\n",
       "      <td>NaN</td>\n",
       "      <td>4.000000</td>\n",
       "      <td>NaN</td>\n",
       "      <td>NaN</td>\n",
       "      <td>NaN</td>\n",
       "      <td>NaN</td>\n",
       "    </tr>\n",
       "    <tr>\n",
       "      <th>50%</th>\n",
       "      <td>NaN</td>\n",
       "      <td>2.000000</td>\n",
       "      <td>NaN</td>\n",
       "      <td>13.000000</td>\n",
       "      <td>NaN</td>\n",
       "      <td>NaN</td>\n",
       "      <td>NaN</td>\n",
       "      <td>NaN</td>\n",
       "    </tr>\n",
       "    <tr>\n",
       "      <th>75%</th>\n",
       "      <td>NaN</td>\n",
       "      <td>3.000000</td>\n",
       "      <td>NaN</td>\n",
       "      <td>23.000000</td>\n",
       "      <td>NaN</td>\n",
       "      <td>NaN</td>\n",
       "      <td>NaN</td>\n",
       "      <td>NaN</td>\n",
       "    </tr>\n",
       "    <tr>\n",
       "      <th>max</th>\n",
       "      <td>NaN</td>\n",
       "      <td>4.000000</td>\n",
       "      <td>NaN</td>\n",
       "      <td>34.429000</td>\n",
       "      <td>NaN</td>\n",
       "      <td>NaN</td>\n",
       "      <td>NaN</td>\n",
       "      <td>NaN</td>\n",
       "    </tr>\n",
       "  </tbody>\n",
       "</table>\n",
       "</div>"
      ],
      "text/plain": [
       "                             _id      index            date   duration  item  \\\n",
       "count                         10  10.000000              10  10.000000    10   \n",
       "unique                        10        NaN               4        NaN     2   \n",
       "top     675b8ded4c8ebb511505b3d5        NaN  15/10/14 06:58        NaN  call   \n",
       "freq                           1        NaN               4        NaN     8   \n",
       "mean                         NaN   2.000000             NaN  15.685800   NaN   \n",
       "std                          NaN   1.490712             NaN  12.339048   NaN   \n",
       "min                          NaN   0.000000             NaN   4.000000   NaN   \n",
       "25%                          NaN   1.000000             NaN   4.000000   NaN   \n",
       "50%                          NaN   2.000000             NaN  13.000000   NaN   \n",
       "75%                          NaN   3.000000             NaN  23.000000   NaN   \n",
       "max                          NaN   4.000000             NaN  34.429000   NaN   \n",
       "\n",
       "          month network network_type  \n",
       "count        10      10           10  \n",
       "unique        1       4            2  \n",
       "top     2014-11   Tesco       mobile  \n",
       "freq         10       4            8  \n",
       "mean        NaN     NaN          NaN  \n",
       "std         NaN     NaN          NaN  \n",
       "min         NaN     NaN          NaN  \n",
       "25%         NaN     NaN          NaN  \n",
       "50%         NaN     NaN          NaN  \n",
       "75%         NaN     NaN          NaN  \n",
       "max         NaN     NaN          NaN  "
      ]
     },
     "execution_count": 29,
     "metadata": {},
     "output_type": "execute_result"
    }
   ],
   "source": [
    "df_phone_list.describe(include = 'all')"
   ]
  },
  {
   "cell_type": "markdown",
   "metadata": {},
   "source": [
    "## save to DB"
   ]
  },
  {
   "cell_type": "code",
   "execution_count": 45,
   "metadata": {},
   "outputs": [
    {
     "data": {
      "text/html": [
       "<div>\n",
       "<style scoped>\n",
       "    .dataframe tbody tr th:only-of-type {\n",
       "        vertical-align: middle;\n",
       "    }\n",
       "\n",
       "    .dataframe tbody tr th {\n",
       "        vertical-align: top;\n",
       "    }\n",
       "\n",
       "    .dataframe thead th {\n",
       "        text-align: right;\n",
       "    }\n",
       "</style>\n",
       "<table border=\"1\" class=\"dataframe\">\n",
       "  <thead>\n",
       "    <tr style=\"text-align: right;\">\n",
       "      <th></th>\n",
       "      <th>index</th>\n",
       "      <th>date</th>\n",
       "      <th>duration</th>\n",
       "      <th>item</th>\n",
       "      <th>month</th>\n",
       "      <th>network</th>\n",
       "      <th>network_type</th>\n",
       "    </tr>\n",
       "  </thead>\n",
       "  <tbody>\n",
       "    <tr>\n",
       "      <th>0</th>\n",
       "      <td>0</td>\n",
       "      <td>15/10/14 06:58</td>\n",
       "      <td>34.429</td>\n",
       "      <td>data</td>\n",
       "      <td>2014-11</td>\n",
       "      <td>data</td>\n",
       "      <td>data</td>\n",
       "    </tr>\n",
       "    <tr>\n",
       "      <th>1</th>\n",
       "      <td>1</td>\n",
       "      <td>15/10/14 06:58</td>\n",
       "      <td>13.000</td>\n",
       "      <td>call</td>\n",
       "      <td>2014-11</td>\n",
       "      <td>Vodafone</td>\n",
       "      <td>mobile</td>\n",
       "    </tr>\n",
       "    <tr>\n",
       "      <th>2</th>\n",
       "      <td>2</td>\n",
       "      <td>15/10/14 14:46</td>\n",
       "      <td>23.000</td>\n",
       "      <td>call</td>\n",
       "      <td>2014-11</td>\n",
       "      <td>Meteor</td>\n",
       "      <td>mobile</td>\n",
       "    </tr>\n",
       "    <tr>\n",
       "      <th>3</th>\n",
       "      <td>3</td>\n",
       "      <td>15/10/14 14:48</td>\n",
       "      <td>4.000</td>\n",
       "      <td>call</td>\n",
       "      <td>2014-11</td>\n",
       "      <td>Tesco</td>\n",
       "      <td>mobile</td>\n",
       "    </tr>\n",
       "    <tr>\n",
       "      <th>4</th>\n",
       "      <td>4</td>\n",
       "      <td>15/10/14 17:27</td>\n",
       "      <td>4.000</td>\n",
       "      <td>call</td>\n",
       "      <td>2014-11</td>\n",
       "      <td>Tesco</td>\n",
       "      <td>mobile</td>\n",
       "    </tr>\n",
       "    <tr>\n",
       "      <th>5</th>\n",
       "      <td>0</td>\n",
       "      <td>15/10/14 06:58</td>\n",
       "      <td>34.429</td>\n",
       "      <td>data</td>\n",
       "      <td>2014-11</td>\n",
       "      <td>data</td>\n",
       "      <td>data</td>\n",
       "    </tr>\n",
       "    <tr>\n",
       "      <th>6</th>\n",
       "      <td>1</td>\n",
       "      <td>15/10/14 06:58</td>\n",
       "      <td>13.000</td>\n",
       "      <td>call</td>\n",
       "      <td>2014-11</td>\n",
       "      <td>Vodafone</td>\n",
       "      <td>mobile</td>\n",
       "    </tr>\n",
       "    <tr>\n",
       "      <th>7</th>\n",
       "      <td>2</td>\n",
       "      <td>15/10/14 14:46</td>\n",
       "      <td>23.000</td>\n",
       "      <td>call</td>\n",
       "      <td>2014-11</td>\n",
       "      <td>Meteor</td>\n",
       "      <td>mobile</td>\n",
       "    </tr>\n",
       "    <tr>\n",
       "      <th>8</th>\n",
       "      <td>3</td>\n",
       "      <td>15/10/14 14:48</td>\n",
       "      <td>4.000</td>\n",
       "      <td>call</td>\n",
       "      <td>2014-11</td>\n",
       "      <td>Tesco</td>\n",
       "      <td>mobile</td>\n",
       "    </tr>\n",
       "    <tr>\n",
       "      <th>9</th>\n",
       "      <td>4</td>\n",
       "      <td>15/10/14 17:27</td>\n",
       "      <td>4.000</td>\n",
       "      <td>call</td>\n",
       "      <td>2014-11</td>\n",
       "      <td>Tesco</td>\n",
       "      <td>mobile</td>\n",
       "    </tr>\n",
       "  </tbody>\n",
       "</table>\n",
       "</div>"
      ],
      "text/plain": [
       "   index            date  duration  item    month   network network_type\n",
       "0      0  15/10/14 06:58    34.429  data  2014-11      data         data\n",
       "1      1  15/10/14 06:58    13.000  call  2014-11  Vodafone       mobile\n",
       "2      2  15/10/14 14:46    23.000  call  2014-11    Meteor       mobile\n",
       "3      3  15/10/14 14:48     4.000  call  2014-11     Tesco       mobile\n",
       "4      4  15/10/14 17:27     4.000  call  2014-11     Tesco       mobile\n",
       "5      0  15/10/14 06:58    34.429  data  2014-11      data         data\n",
       "6      1  15/10/14 06:58    13.000  call  2014-11  Vodafone       mobile\n",
       "7      2  15/10/14 14:46    23.000  call  2014-11    Meteor       mobile\n",
       "8      3  15/10/14 14:48     4.000  call  2014-11     Tesco       mobile\n",
       "9      4  15/10/14 17:27     4.000  call  2014-11     Tesco       mobile"
      ]
     },
     "execution_count": 45,
     "metadata": {},
     "output_type": "execute_result"
    }
   ],
   "source": [
    "#type(df_phone_list)\n",
    "df_phone_list_without_id = df_phone_list.drop('_id', axis=1)\n",
    "df_phone_list_without_id"
   ]
  },
  {
   "cell_type": "code",
   "execution_count": 30,
   "metadata": {},
   "outputs": [
    {
     "data": {
      "text/plain": [
       "[{'_id': ObjectId('675b8ded4c8ebb511505b3d5'),\n",
       "  'index': 0,\n",
       "  'date': '15/10/14 06:58',\n",
       "  'duration': 34.429,\n",
       "  'item': 'data',\n",
       "  'month': '2014-11',\n",
       "  'network': 'data',\n",
       "  'network_type': 'data'},\n",
       " {'_id': ObjectId('675b8ded4c8ebb511505b3d6'),\n",
       "  'index': 1,\n",
       "  'date': '15/10/14 06:58',\n",
       "  'duration': 13.0,\n",
       "  'item': 'call',\n",
       "  'month': '2014-11',\n",
       "  'network': 'Vodafone',\n",
       "  'network_type': 'mobile'},\n",
       " {'_id': ObjectId('675b8ded4c8ebb511505b3d7'),\n",
       "  'index': 2,\n",
       "  'date': '15/10/14 14:46',\n",
       "  'duration': 23.0,\n",
       "  'item': 'call',\n",
       "  'month': '2014-11',\n",
       "  'network': 'Meteor',\n",
       "  'network_type': 'mobile'},\n",
       " {'_id': ObjectId('675b8ded4c8ebb511505b3d8'),\n",
       "  'index': 3,\n",
       "  'date': '15/10/14 14:48',\n",
       "  'duration': 4.0,\n",
       "  'item': 'call',\n",
       "  'month': '2014-11',\n",
       "  'network': 'Tesco',\n",
       "  'network_type': 'mobile'},\n",
       " {'_id': ObjectId('675b8ded4c8ebb511505b3d9'),\n",
       "  'index': 4,\n",
       "  'date': '15/10/14 17:27',\n",
       "  'duration': 4.0,\n",
       "  'item': 'call',\n",
       "  'month': '2014-11',\n",
       "  'network': 'Tesco',\n",
       "  'network_type': 'mobile'},\n",
       " {'_id': ObjectId('675b8fef4c8ebb511505b3db'),\n",
       "  'index': 0,\n",
       "  'date': '15/10/14 06:58',\n",
       "  'duration': 34.429,\n",
       "  'item': 'data',\n",
       "  'month': '2014-11',\n",
       "  'network': 'data',\n",
       "  'network_type': 'data'},\n",
       " {'_id': ObjectId('675b8fef4c8ebb511505b3dc'),\n",
       "  'index': 1,\n",
       "  'date': '15/10/14 06:58',\n",
       "  'duration': 13.0,\n",
       "  'item': 'call',\n",
       "  'month': '2014-11',\n",
       "  'network': 'Vodafone',\n",
       "  'network_type': 'mobile'},\n",
       " {'_id': ObjectId('675b8fef4c8ebb511505b3dd'),\n",
       "  'index': 2,\n",
       "  'date': '15/10/14 14:46',\n",
       "  'duration': 23.0,\n",
       "  'item': 'call',\n",
       "  'month': '2014-11',\n",
       "  'network': 'Meteor',\n",
       "  'network_type': 'mobile'},\n",
       " {'_id': ObjectId('675b8fef4c8ebb511505b3de'),\n",
       "  'index': 3,\n",
       "  'date': '15/10/14 14:48',\n",
       "  'duration': 4.0,\n",
       "  'item': 'call',\n",
       "  'month': '2014-11',\n",
       "  'network': 'Tesco',\n",
       "  'network_type': 'mobile'},\n",
       " {'_id': ObjectId('675b8fef4c8ebb511505b3df'),\n",
       "  'index': 4,\n",
       "  'date': '15/10/14 17:27',\n",
       "  'duration': 4.0,\n",
       "  'item': 'call',\n",
       "  'month': '2014-11',\n",
       "  'network': 'Tesco',\n",
       "  'network_type': 'mobile'}]"
      ]
     },
     "execution_count": 30,
     "metadata": {},
     "output_type": "execute_result"
    }
   ],
   "source": [
    "data_to_insert = df_phone_list.to_dict(orient='records')\n",
    "data_to_insert"
   ]
  },
  {
   "cell_type": "code",
   "execution_count": 31,
   "metadata": {},
   "outputs": [
    {
     "ename": "BulkWriteError",
     "evalue": "batch op errors occurred, full error: {'writeErrors': [{'index': 0, 'code': 11000, 'errmsg': \"E11000 duplicate key error collection: pandas_db.phone_list index: _id_ dup key: { _id: ObjectId('675b8ded4c8ebb511505b3d5') }\", 'keyPattern': {'_id': 1}, 'keyValue': {'_id': ObjectId('675b8ded4c8ebb511505b3d5')}, 'op': {'_id': ObjectId('675b8ded4c8ebb511505b3d5'), 'index': 0, 'date': '15/10/14 06:58', 'duration': 34.429, 'item': 'data', 'month': '2014-11', 'network': 'data', 'network_type': 'data'}}], 'writeConcernErrors': [], 'nInserted': 0, 'nUpserted': 0, 'nMatched': 0, 'nModified': 0, 'nRemoved': 0, 'upserted': []}",
     "output_type": "error",
     "traceback": [
      "\u001b[0;31m---------------------------------------------------------------------------\u001b[0m",
      "\u001b[0;31mBulkWriteError\u001b[0m                            Traceback (most recent call last)",
      "Cell \u001b[0;32mIn[31], line 1\u001b[0m\n\u001b[0;32m----> 1\u001b[0m \u001b[43mphone_collection\u001b[49m\u001b[38;5;241;43m.\u001b[39;49m\u001b[43minsert_many\u001b[49m\u001b[43m(\u001b[49m\u001b[43mdata_to_insert\u001b[49m\u001b[43m)\u001b[49m\n",
      "File \u001b[0;32m/usr/local/lib/python3.11/site-packages/pymongo/_csot.py:119\u001b[0m, in \u001b[0;36mapply.<locals>.csot_wrapper\u001b[0;34m(self, *args, **kwargs)\u001b[0m\n\u001b[1;32m    117\u001b[0m         \u001b[38;5;28;01mwith\u001b[39;00m _TimeoutContext(timeout):\n\u001b[1;32m    118\u001b[0m             \u001b[38;5;28;01mreturn\u001b[39;00m func(\u001b[38;5;28mself\u001b[39m, \u001b[38;5;241m*\u001b[39margs, \u001b[38;5;241m*\u001b[39m\u001b[38;5;241m*\u001b[39mkwargs)\n\u001b[0;32m--> 119\u001b[0m \u001b[38;5;28;01mreturn\u001b[39;00m \u001b[43mfunc\u001b[49m\u001b[43m(\u001b[49m\u001b[38;5;28;43mself\u001b[39;49m\u001b[43m,\u001b[49m\u001b[43m \u001b[49m\u001b[38;5;241;43m*\u001b[39;49m\u001b[43margs\u001b[49m\u001b[43m,\u001b[49m\u001b[43m \u001b[49m\u001b[38;5;241;43m*\u001b[39;49m\u001b[38;5;241;43m*\u001b[39;49m\u001b[43mkwargs\u001b[49m\u001b[43m)\u001b[49m\n",
      "File \u001b[0;32m/usr/local/lib/python3.11/site-packages/pymongo/synchronous/collection.py:975\u001b[0m, in \u001b[0;36mCollection.insert_many\u001b[0;34m(self, documents, ordered, bypass_document_validation, session, comment)\u001b[0m\n\u001b[1;32m    973\u001b[0m blk \u001b[38;5;241m=\u001b[39m _Bulk(\u001b[38;5;28mself\u001b[39m, ordered, bypass_document_validation, comment\u001b[38;5;241m=\u001b[39mcomment)\n\u001b[1;32m    974\u001b[0m blk\u001b[38;5;241m.\u001b[39mops \u001b[38;5;241m=\u001b[39m \u001b[38;5;28mlist\u001b[39m(gen())\n\u001b[0;32m--> 975\u001b[0m \u001b[43mblk\u001b[49m\u001b[38;5;241;43m.\u001b[39;49m\u001b[43mexecute\u001b[49m\u001b[43m(\u001b[49m\u001b[43mwrite_concern\u001b[49m\u001b[43m,\u001b[49m\u001b[43m \u001b[49m\u001b[43msession\u001b[49m\u001b[43m,\u001b[49m\u001b[43m \u001b[49m\u001b[43m_Op\u001b[49m\u001b[38;5;241;43m.\u001b[39;49m\u001b[43mINSERT\u001b[49m\u001b[43m)\u001b[49m\n\u001b[1;32m    976\u001b[0m \u001b[38;5;28;01mreturn\u001b[39;00m InsertManyResult(inserted_ids, write_concern\u001b[38;5;241m.\u001b[39macknowledged)\n",
      "File \u001b[0;32m/usr/local/lib/python3.11/site-packages/pymongo/synchronous/bulk.py:736\u001b[0m, in \u001b[0;36m_Bulk.execute\u001b[0;34m(self, write_concern, session, operation)\u001b[0m\n\u001b[1;32m    734\u001b[0m         \u001b[38;5;28;01mreturn\u001b[39;00m \u001b[38;5;28;01mNone\u001b[39;00m\n\u001b[1;32m    735\u001b[0m \u001b[38;5;28;01melse\u001b[39;00m:\n\u001b[0;32m--> 736\u001b[0m     \u001b[38;5;28;01mreturn\u001b[39;00m \u001b[38;5;28;43mself\u001b[39;49m\u001b[38;5;241;43m.\u001b[39;49m\u001b[43mexecute_command\u001b[49m\u001b[43m(\u001b[49m\u001b[43mgenerator\u001b[49m\u001b[43m,\u001b[49m\u001b[43m \u001b[49m\u001b[43mwrite_concern\u001b[49m\u001b[43m,\u001b[49m\u001b[43m \u001b[49m\u001b[43msession\u001b[49m\u001b[43m,\u001b[49m\u001b[43m \u001b[49m\u001b[43moperation\u001b[49m\u001b[43m)\u001b[49m\n",
      "File \u001b[0;32m/usr/local/lib/python3.11/site-packages/pymongo/synchronous/bulk.py:603\u001b[0m, in \u001b[0;36m_Bulk.execute_command\u001b[0;34m(self, generator, write_concern, session, operation)\u001b[0m\n\u001b[1;32m    593\u001b[0m _ \u001b[38;5;241m=\u001b[39m client\u001b[38;5;241m.\u001b[39m_retryable_write(\n\u001b[1;32m    594\u001b[0m     \u001b[38;5;28mself\u001b[39m\u001b[38;5;241m.\u001b[39mis_retryable,\n\u001b[1;32m    595\u001b[0m     retryable_bulk,\n\u001b[0;32m   (...)\u001b[0m\n\u001b[1;32m    599\u001b[0m     operation_id\u001b[38;5;241m=\u001b[39mop_id,\n\u001b[1;32m    600\u001b[0m )\n\u001b[1;32m    602\u001b[0m \u001b[38;5;28;01mif\u001b[39;00m full_result[\u001b[38;5;124m\"\u001b[39m\u001b[38;5;124mwriteErrors\u001b[39m\u001b[38;5;124m\"\u001b[39m] \u001b[38;5;129;01mor\u001b[39;00m full_result[\u001b[38;5;124m\"\u001b[39m\u001b[38;5;124mwriteConcernErrors\u001b[39m\u001b[38;5;124m\"\u001b[39m]:\n\u001b[0;32m--> 603\u001b[0m     \u001b[43m_raise_bulk_write_error\u001b[49m\u001b[43m(\u001b[49m\u001b[43mfull_result\u001b[49m\u001b[43m)\u001b[49m\n\u001b[1;32m    604\u001b[0m \u001b[38;5;28;01mreturn\u001b[39;00m full_result\n",
      "File \u001b[0;32m/usr/local/lib/python3.11/site-packages/pymongo/bulk_shared.py:131\u001b[0m, in \u001b[0;36m_raise_bulk_write_error\u001b[0;34m(full_result)\u001b[0m\n\u001b[1;32m    125\u001b[0m         errmsg \u001b[38;5;241m=\u001b[39m (\n\u001b[1;32m    126\u001b[0m             \u001b[38;5;124m\"\u001b[39m\u001b[38;5;124mThis MongoDB deployment does not support \u001b[39m\u001b[38;5;124m\"\u001b[39m\n\u001b[1;32m    127\u001b[0m             \u001b[38;5;124m\"\u001b[39m\u001b[38;5;124mretryable writes. Please add retryWrites=false \u001b[39m\u001b[38;5;124m\"\u001b[39m\n\u001b[1;32m    128\u001b[0m             \u001b[38;5;124m\"\u001b[39m\u001b[38;5;124mto your connection string.\u001b[39m\u001b[38;5;124m\"\u001b[39m\n\u001b[1;32m    129\u001b[0m         )\n\u001b[1;32m    130\u001b[0m         \u001b[38;5;28;01mraise\u001b[39;00m OperationFailure(errmsg, code, full_result)\n\u001b[0;32m--> 131\u001b[0m \u001b[38;5;28;01mraise\u001b[39;00m BulkWriteError(full_result)\n",
      "\u001b[0;31mBulkWriteError\u001b[0m: batch op errors occurred, full error: {'writeErrors': [{'index': 0, 'code': 11000, 'errmsg': \"E11000 duplicate key error collection: pandas_db.phone_list index: _id_ dup key: { _id: ObjectId('675b8ded4c8ebb511505b3d5') }\", 'keyPattern': {'_id': 1}, 'keyValue': {'_id': ObjectId('675b8ded4c8ebb511505b3d5')}, 'op': {'_id': ObjectId('675b8ded4c8ebb511505b3d5'), 'index': 0, 'date': '15/10/14 06:58', 'duration': 34.429, 'item': 'data', 'month': '2014-11', 'network': 'data', 'network_type': 'data'}}], 'writeConcernErrors': [], 'nInserted': 0, 'nUpserted': 0, 'nMatched': 0, 'nModified': 0, 'nRemoved': 0, 'upserted': []}"
     ]
    }
   ],
   "source": [
    "phone_collection.insert_many(data_to_insert)"
   ]
  },
  {
   "cell_type": "code",
   "execution_count": 46,
   "metadata": {},
   "outputs": [
    {
     "ename": "BulkWriteError",
     "evalue": "batch op errors occurred, full error: {'writeErrors': [{'index': 0, 'code': 11000, 'errmsg': \"E11000 duplicate key error collection: pandas_db.phone_list index: _id_ dup key: { _id: ObjectId('675b8ded4c8ebb511505b3d5') }\", 'keyPattern': {'_id': 1}, 'keyValue': {'_id': ObjectId('675b8ded4c8ebb511505b3d5')}, 'op': {'_id': ObjectId('675b8ded4c8ebb511505b3d5'), 'index': 0, 'date': '15/10/14 06:58', 'duration': 34.429, 'item': 'data', 'month': '2014-11', 'network': 'data', 'network_type': 'data'}}], 'writeConcernErrors': [], 'nInserted': 0, 'nUpserted': 0, 'nMatched': 0, 'nModified': 0, 'nRemoved': 0, 'upserted': []}",
     "output_type": "error",
     "traceback": [
      "\u001b[0;31m---------------------------------------------------------------------------\u001b[0m",
      "\u001b[0;31mBulkWriteError\u001b[0m                            Traceback (most recent call last)",
      "Cell \u001b[0;32mIn[46], line 1\u001b[0m\n\u001b[0;32m----> 1\u001b[0m result \u001b[38;5;241m=\u001b[39m \u001b[43mphone_collection\u001b[49m\u001b[38;5;241;43m.\u001b[39;49m\u001b[43minsert_many\u001b[49m\u001b[43m(\u001b[49m\u001b[43mdata_to_insert\u001b[49m\u001b[43m)\u001b[49m\n",
      "File \u001b[0;32m/usr/local/lib/python3.11/site-packages/pymongo/_csot.py:119\u001b[0m, in \u001b[0;36mapply.<locals>.csot_wrapper\u001b[0;34m(self, *args, **kwargs)\u001b[0m\n\u001b[1;32m    117\u001b[0m         \u001b[38;5;28;01mwith\u001b[39;00m _TimeoutContext(timeout):\n\u001b[1;32m    118\u001b[0m             \u001b[38;5;28;01mreturn\u001b[39;00m func(\u001b[38;5;28mself\u001b[39m, \u001b[38;5;241m*\u001b[39margs, \u001b[38;5;241m*\u001b[39m\u001b[38;5;241m*\u001b[39mkwargs)\n\u001b[0;32m--> 119\u001b[0m \u001b[38;5;28;01mreturn\u001b[39;00m \u001b[43mfunc\u001b[49m\u001b[43m(\u001b[49m\u001b[38;5;28;43mself\u001b[39;49m\u001b[43m,\u001b[49m\u001b[43m \u001b[49m\u001b[38;5;241;43m*\u001b[39;49m\u001b[43margs\u001b[49m\u001b[43m,\u001b[49m\u001b[43m \u001b[49m\u001b[38;5;241;43m*\u001b[39;49m\u001b[38;5;241;43m*\u001b[39;49m\u001b[43mkwargs\u001b[49m\u001b[43m)\u001b[49m\n",
      "File \u001b[0;32m/usr/local/lib/python3.11/site-packages/pymongo/synchronous/collection.py:975\u001b[0m, in \u001b[0;36mCollection.insert_many\u001b[0;34m(self, documents, ordered, bypass_document_validation, session, comment)\u001b[0m\n\u001b[1;32m    973\u001b[0m blk \u001b[38;5;241m=\u001b[39m _Bulk(\u001b[38;5;28mself\u001b[39m, ordered, bypass_document_validation, comment\u001b[38;5;241m=\u001b[39mcomment)\n\u001b[1;32m    974\u001b[0m blk\u001b[38;5;241m.\u001b[39mops \u001b[38;5;241m=\u001b[39m \u001b[38;5;28mlist\u001b[39m(gen())\n\u001b[0;32m--> 975\u001b[0m \u001b[43mblk\u001b[49m\u001b[38;5;241;43m.\u001b[39;49m\u001b[43mexecute\u001b[49m\u001b[43m(\u001b[49m\u001b[43mwrite_concern\u001b[49m\u001b[43m,\u001b[49m\u001b[43m \u001b[49m\u001b[43msession\u001b[49m\u001b[43m,\u001b[49m\u001b[43m \u001b[49m\u001b[43m_Op\u001b[49m\u001b[38;5;241;43m.\u001b[39;49m\u001b[43mINSERT\u001b[49m\u001b[43m)\u001b[49m\n\u001b[1;32m    976\u001b[0m \u001b[38;5;28;01mreturn\u001b[39;00m InsertManyResult(inserted_ids, write_concern\u001b[38;5;241m.\u001b[39macknowledged)\n",
      "File \u001b[0;32m/usr/local/lib/python3.11/site-packages/pymongo/synchronous/bulk.py:736\u001b[0m, in \u001b[0;36m_Bulk.execute\u001b[0;34m(self, write_concern, session, operation)\u001b[0m\n\u001b[1;32m    734\u001b[0m         \u001b[38;5;28;01mreturn\u001b[39;00m \u001b[38;5;28;01mNone\u001b[39;00m\n\u001b[1;32m    735\u001b[0m \u001b[38;5;28;01melse\u001b[39;00m:\n\u001b[0;32m--> 736\u001b[0m     \u001b[38;5;28;01mreturn\u001b[39;00m \u001b[38;5;28;43mself\u001b[39;49m\u001b[38;5;241;43m.\u001b[39;49m\u001b[43mexecute_command\u001b[49m\u001b[43m(\u001b[49m\u001b[43mgenerator\u001b[49m\u001b[43m,\u001b[49m\u001b[43m \u001b[49m\u001b[43mwrite_concern\u001b[49m\u001b[43m,\u001b[49m\u001b[43m \u001b[49m\u001b[43msession\u001b[49m\u001b[43m,\u001b[49m\u001b[43m \u001b[49m\u001b[43moperation\u001b[49m\u001b[43m)\u001b[49m\n",
      "File \u001b[0;32m/usr/local/lib/python3.11/site-packages/pymongo/synchronous/bulk.py:603\u001b[0m, in \u001b[0;36m_Bulk.execute_command\u001b[0;34m(self, generator, write_concern, session, operation)\u001b[0m\n\u001b[1;32m    593\u001b[0m _ \u001b[38;5;241m=\u001b[39m client\u001b[38;5;241m.\u001b[39m_retryable_write(\n\u001b[1;32m    594\u001b[0m     \u001b[38;5;28mself\u001b[39m\u001b[38;5;241m.\u001b[39mis_retryable,\n\u001b[1;32m    595\u001b[0m     retryable_bulk,\n\u001b[0;32m   (...)\u001b[0m\n\u001b[1;32m    599\u001b[0m     operation_id\u001b[38;5;241m=\u001b[39mop_id,\n\u001b[1;32m    600\u001b[0m )\n\u001b[1;32m    602\u001b[0m \u001b[38;5;28;01mif\u001b[39;00m full_result[\u001b[38;5;124m\"\u001b[39m\u001b[38;5;124mwriteErrors\u001b[39m\u001b[38;5;124m\"\u001b[39m] \u001b[38;5;129;01mor\u001b[39;00m full_result[\u001b[38;5;124m\"\u001b[39m\u001b[38;5;124mwriteConcernErrors\u001b[39m\u001b[38;5;124m\"\u001b[39m]:\n\u001b[0;32m--> 603\u001b[0m     \u001b[43m_raise_bulk_write_error\u001b[49m\u001b[43m(\u001b[49m\u001b[43mfull_result\u001b[49m\u001b[43m)\u001b[49m\n\u001b[1;32m    604\u001b[0m \u001b[38;5;28;01mreturn\u001b[39;00m full_result\n",
      "File \u001b[0;32m/usr/local/lib/python3.11/site-packages/pymongo/bulk_shared.py:131\u001b[0m, in \u001b[0;36m_raise_bulk_write_error\u001b[0;34m(full_result)\u001b[0m\n\u001b[1;32m    125\u001b[0m         errmsg \u001b[38;5;241m=\u001b[39m (\n\u001b[1;32m    126\u001b[0m             \u001b[38;5;124m\"\u001b[39m\u001b[38;5;124mThis MongoDB deployment does not support \u001b[39m\u001b[38;5;124m\"\u001b[39m\n\u001b[1;32m    127\u001b[0m             \u001b[38;5;124m\"\u001b[39m\u001b[38;5;124mretryable writes. Please add retryWrites=false \u001b[39m\u001b[38;5;124m\"\u001b[39m\n\u001b[1;32m    128\u001b[0m             \u001b[38;5;124m\"\u001b[39m\u001b[38;5;124mto your connection string.\u001b[39m\u001b[38;5;124m\"\u001b[39m\n\u001b[1;32m    129\u001b[0m         )\n\u001b[1;32m    130\u001b[0m         \u001b[38;5;28;01mraise\u001b[39;00m OperationFailure(errmsg, code, full_result)\n\u001b[0;32m--> 131\u001b[0m \u001b[38;5;28;01mraise\u001b[39;00m BulkWriteError(full_result)\n",
      "\u001b[0;31mBulkWriteError\u001b[0m: batch op errors occurred, full error: {'writeErrors': [{'index': 0, 'code': 11000, 'errmsg': \"E11000 duplicate key error collection: pandas_db.phone_list index: _id_ dup key: { _id: ObjectId('675b8ded4c8ebb511505b3d5') }\", 'keyPattern': {'_id': 1}, 'keyValue': {'_id': ObjectId('675b8ded4c8ebb511505b3d5')}, 'op': {'_id': ObjectId('675b8ded4c8ebb511505b3d5'), 'index': 0, 'date': '15/10/14 06:58', 'duration': 34.429, 'item': 'data', 'month': '2014-11', 'network': 'data', 'network_type': 'data'}}], 'writeConcernErrors': [], 'nInserted': 0, 'nUpserted': 0, 'nMatched': 0, 'nModified': 0, 'nRemoved': 0, 'upserted': []}"
     ]
    }
   ],
   "source": [
    "result = phone_collection.insert_many(data_to_insert)"
   ]
  },
  {
   "cell_type": "code",
   "execution_count": 47,
   "metadata": {},
   "outputs": [
    {
     "data": {
      "text/plain": [
       "[ObjectId('675b92284c8ebb511505b3e1'),\n",
       " ObjectId('675b92284c8ebb511505b3e2'),\n",
       " ObjectId('675b92284c8ebb511505b3e3'),\n",
       " ObjectId('675b92284c8ebb511505b3e4'),\n",
       " ObjectId('675b92284c8ebb511505b3e5')]"
      ]
     },
     "execution_count": 47,
     "metadata": {},
     "output_type": "execute_result"
    }
   ],
   "source": [
    "result.inserted_ids"
   ]
  },
  {
   "cell_type": "code",
   "execution_count": null,
   "metadata": {},
   "outputs": [],
   "source": []
  }
 ],
 "metadata": {
  "kernelspec": {
   "display_name": "Python 3",
   "language": "python",
   "name": "python3"
  },
  "language_info": {
   "codemirror_mode": {
    "name": "ipython",
    "version": 3
   },
   "file_extension": ".py",
   "mimetype": "text/x-python",
   "name": "python",
   "nbconvert_exporter": "python",
   "pygments_lexer": "ipython3",
   "version": "3.11.11"
  }
 },
 "nbformat": 4,
 "nbformat_minor": 2
}
