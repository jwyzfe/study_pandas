{
 "cells": [
  {
   "cell_type": "code",
   "execution_count": 35,
   "metadata": {},
   "outputs": [],
   "source": [
    "import pandas as pd"
   ]
  },
  {
   "cell_type": "code",
   "execution_count": 36,
   "metadata": {},
   "outputs": [
    {
     "name": "stderr",
     "output_type": "stream",
     "text": [
      "/usr/local/lib/python3.11/site-packages/openpyxl/styles/stylesheet.py:237: UserWarning: Workbook contains no default style, apply openpyxl's default\n",
      "  warn(\"Workbook contains no default style, apply openpyxl's default\")\n"
     ]
    }
   ],
   "source": [
    "df_gdp = pd.read_excel('../datasets/GDP.xlsx', header=0)"
   ]
  },
  {
   "cell_type": "code",
   "execution_count": 62,
   "metadata": {},
   "outputs": [],
   "source": [
    "row_gdp = df_gdp.iloc[27:30]\n",
    "row_gdp_transposed = row_gdp.set_index(row_gdp.columns[1]).transpose()\n",
    "row_gdp_transposed = row_gdp_transposed.loc[:, ~row_gdp_transposed.columns.str.contains('Unnamed')]\n",
    "\n",
    "# 열 이름을 첫 번째 행으로 설정\n",
    "row_gdp_transposed.columns = row_gdp_transposed.iloc[0]"
   ]
  },
  {
   "cell_type": "code",
   "execution_count": 64,
   "metadata": {},
   "outputs": [
    {
     "data": {
      "text/html": [
       "<div>\n",
       "<style scoped>\n",
       "    .dataframe tbody tr th:only-of-type {\n",
       "        vertical-align: middle;\n",
       "    }\n",
       "\n",
       "    .dataframe tbody tr th {\n",
       "        vertical-align: top;\n",
       "    }\n",
       "\n",
       "    .dataframe thead th {\n",
       "        text-align: right;\n",
       "    }\n",
       "</style>\n",
       "<table border=\"1\" class=\"dataframe\">\n",
       "  <thead>\n",
       "    <tr style=\"text-align: right;\">\n",
       "      <th>『국내총생산 및 경제성장률 (GDP)』</th>\n",
       "      <th>NaN</th>\n",
       "      <th>국내총생산(명목GDP)</th>\n",
       "      <th>경제성장률(실질GDP성장률)</th>\n",
       "    </tr>\n",
       "  </thead>\n",
       "  <tbody>\n",
       "    <tr>\n",
       "      <th>Unnamed: 3</th>\n",
       "      <td>20223/4</td>\n",
       "      <td>588,594.0</td>\n",
       "      <td>3.4</td>\n",
       "    </tr>\n",
       "    <tr>\n",
       "      <th>Unnamed: 4</th>\n",
       "      <td>20224/4</td>\n",
       "      <td>599,728.8</td>\n",
       "      <td>1.1</td>\n",
       "    </tr>\n",
       "    <tr>\n",
       "      <th>Unnamed: 5</th>\n",
       "      <td>20231/4</td>\n",
       "      <td>565,099.2</td>\n",
       "      <td>1.1</td>\n",
       "    </tr>\n",
       "    <tr>\n",
       "      <th>Unnamed: 6</th>\n",
       "      <td>20232/4</td>\n",
       "      <td>592,222.8</td>\n",
       "      <td>1.0</td>\n",
       "    </tr>\n",
       "    <tr>\n",
       "      <th>Unnamed: 7</th>\n",
       "      <td>20233/4</td>\n",
       "      <td>611,097.6</td>\n",
       "      <td>1.4</td>\n",
       "    </tr>\n",
       "    <tr>\n",
       "      <th>Unnamed: 8</th>\n",
       "      <td>20234/4</td>\n",
       "      <td>632,769.8</td>\n",
       "      <td>2.1</td>\n",
       "    </tr>\n",
       "    <tr>\n",
       "      <th>Unnamed: 9</th>\n",
       "      <td>20241/4</td>\n",
       "      <td>606,213.9</td>\n",
       "      <td>3.3</td>\n",
       "    </tr>\n",
       "    <tr>\n",
       "      <th>Unnamed: 10</th>\n",
       "      <td>20242/4</td>\n",
       "      <td>634,718.4</td>\n",
       "      <td>2.3</td>\n",
       "    </tr>\n",
       "    <tr>\n",
       "      <th>Unnamed: 11</th>\n",
       "      <td>20243/4</td>\n",
       "      <td>641,917.7</td>\n",
       "      <td>1.5</td>\n",
       "    </tr>\n",
       "  </tbody>\n",
       "</table>\n",
       "</div>"
      ],
      "text/plain": [
       "『국내총생산 및 경제성장률 (GDP)』      NaN 국내총생산(명목GDP) 경제성장률(실질GDP성장률)\n",
       "Unnamed: 3             20223/4    588,594.0             3.4\n",
       "Unnamed: 4             20224/4    599,728.8             1.1\n",
       "Unnamed: 5             20231/4    565,099.2             1.1\n",
       "Unnamed: 6             20232/4    592,222.8             1.0\n",
       "Unnamed: 7             20233/4    611,097.6             1.4\n",
       "Unnamed: 8             20234/4    632,769.8             2.1\n",
       "Unnamed: 9             20241/4    606,213.9             3.3\n",
       "Unnamed: 10            20242/4    634,718.4             2.3\n",
       "Unnamed: 11            20243/4    641,917.7             1.5"
      ]
     },
     "execution_count": 64,
     "metadata": {},
     "output_type": "execute_result"
    }
   ],
   "source": [
    "row_gdp_transposed = row_gdp_transposed[1:]\n",
    "row_gdp_transposed\n"
   ]
  },
  {
   "cell_type": "code",
   "execution_count": null,
   "metadata": {},
   "outputs": [],
   "source": [
    "\n"
   ]
  },
  {
   "cell_type": "code",
   "execution_count": null,
   "metadata": {},
   "outputs": [],
   "source": []
  }
 ],
 "metadata": {
  "kernelspec": {
   "display_name": "Python 3",
   "language": "python",
   "name": "python3"
  },
  "language_info": {
   "codemirror_mode": {
    "name": "ipython",
    "version": 3
   },
   "file_extension": ".py",
   "mimetype": "text/x-python",
   "name": "python",
   "nbconvert_exporter": "python",
   "pygments_lexer": "ipython3",
   "version": "3.11.11"
  }
 },
 "nbformat": 4,
 "nbformat_minor": 2
}
