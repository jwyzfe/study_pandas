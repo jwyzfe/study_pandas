{
 "cells": [
  {
   "cell_type": "code",
   "execution_count": 2,
   "metadata": {},
   "outputs": [],
   "source": [
    "import matplotlib.pyplot as plt\n",
    "import pandas as pd"
   ]
  },
  {
   "cell_type": "code",
   "execution_count": 42,
   "metadata": {},
   "outputs": [
    {
     "name": "stderr",
     "output_type": "stream",
     "text": [
      "/usr/local/lib/python3.11/site-packages/openpyxl/styles/stylesheet.py:237: UserWarning: Workbook contains no default style, apply openpyxl's default\n",
      "  warn(\"Workbook contains no default style, apply openpyxl's default\")\n"
     ]
    },
    {
     "data": {
      "text/html": [
       "<div>\n",
       "<style scoped>\n",
       "    .dataframe tbody tr th:only-of-type {\n",
       "        vertical-align: middle;\n",
       "    }\n",
       "\n",
       "    .dataframe tbody tr th {\n",
       "        vertical-align: top;\n",
       "    }\n",
       "\n",
       "    .dataframe thead th {\n",
       "        text-align: right;\n",
       "    }\n",
       "</style>\n",
       "<table border=\"1\" class=\"dataframe\">\n",
       "  <thead>\n",
       "    <tr style=\"text-align: right;\">\n",
       "      <th></th>\n",
       "      <th>『국내총생산 및 경제성장률 (GDP)』</th>\n",
       "      <th>Unnamed: 1</th>\n",
       "      <th>Unnamed: 2</th>\n",
       "      <th>Unnamed: 3</th>\n",
       "      <th>Unnamed: 4</th>\n",
       "      <th>Unnamed: 5</th>\n",
       "      <th>Unnamed: 6</th>\n",
       "      <th>Unnamed: 7</th>\n",
       "      <th>Unnamed: 8</th>\n",
       "      <th>Unnamed: 9</th>\n",
       "      <th>Unnamed: 10</th>\n",
       "      <th>Unnamed: 11</th>\n",
       "    </tr>\n",
       "  </thead>\n",
       "  <tbody>\n",
       "    <tr>\n",
       "      <th>27</th>\n",
       "      <td>NaN</td>\n",
       "      <td>20221/4</td>\n",
       "      <td>20222/4</td>\n",
       "      <td>20223/4</td>\n",
       "      <td>20224/4</td>\n",
       "      <td>20231/4</td>\n",
       "      <td>20232/4</td>\n",
       "      <td>20233/4</td>\n",
       "      <td>20234/4</td>\n",
       "      <td>20241/4</td>\n",
       "      <td>20242/4</td>\n",
       "      <td>20243/4</td>\n",
       "    </tr>\n",
       "    <tr>\n",
       "      <th>28</th>\n",
       "      <td>국내총생산(명목GDP)</td>\n",
       "      <td>553,664.8</td>\n",
       "      <td>581,793.9</td>\n",
       "      <td>588,594.0</td>\n",
       "      <td>599,728.8</td>\n",
       "      <td>565,099.2</td>\n",
       "      <td>592,222.8</td>\n",
       "      <td>611,097.6</td>\n",
       "      <td>632,769.8</td>\n",
       "      <td>606,213.9</td>\n",
       "      <td>634,718.4</td>\n",
       "      <td>641,917.7</td>\n",
       "    </tr>\n",
       "  </tbody>\n",
       "</table>\n",
       "</div>"
      ],
      "text/plain": [
       "   『국내총생산 및 경제성장률 (GDP)』 Unnamed: 1 Unnamed: 2 Unnamed: 3 Unnamed: 4  \\\n",
       "27                   NaN    20221/4    20222/4    20223/4    20224/4   \n",
       "28          국내총생산(명목GDP)  553,664.8  581,793.9  588,594.0  599,728.8   \n",
       "\n",
       "   Unnamed: 5 Unnamed: 6 Unnamed: 7 Unnamed: 8 Unnamed: 9 Unnamed: 10  \\\n",
       "27    20231/4    20232/4    20233/4    20234/4    20241/4     20242/4   \n",
       "28  565,099.2  592,222.8  611,097.6  632,769.8  606,213.9   634,718.4   \n",
       "\n",
       "   Unnamed: 11  \n",
       "27     20243/4  \n",
       "28   641,917.7  "
      ]
     },
     "execution_count": 42,
     "metadata": {},
     "output_type": "execute_result"
    }
   ],
   "source": [
    "df_gdp = pd.read_excel('../datasets/GDP.xlsx', header=0)\n",
    "row_gdp= df_gdp.iloc[27:29]\n",
    "\n",
    "row_gdp"
   ]
  },
  {
   "cell_type": "code",
   "execution_count": null,
   "metadata": {},
   "outputs": [],
   "source": []
  }
 ],
 "metadata": {
  "kernelspec": {
   "display_name": "Python 3",
   "language": "python",
   "name": "python3"
  },
  "language_info": {
   "codemirror_mode": {
    "name": "ipython",
    "version": 3
   },
   "file_extension": ".py",
   "mimetype": "text/x-python",
   "name": "python",
   "nbconvert_exporter": "python",
   "pygments_lexer": "ipython3",
   "version": "3.11.11"
  }
 },
 "nbformat": 4,
 "nbformat_minor": 2
}
