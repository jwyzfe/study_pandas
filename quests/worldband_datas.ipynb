{
 "cells": [
  {
   "cell_type": "code",
   "execution_count": 41,
   "metadata": {},
   "outputs": [],
   "source": [
    "import wbdata"
   ]
  },
  {
   "cell_type": "markdown",
   "metadata": {},
   "source": [
    "### 연습문제 2"
   ]
  },
  {
   "cell_type": "code",
   "execution_count": 42,
   "metadata": {},
   "outputs": [],
   "source": [
    "import wbdata\n",
    "import pandas as pd\n",
    "import matplotlib.pyplot as plt\n",
    "import datetime"
   ]
  },
  {
   "cell_type": "code",
   "execution_count": 43,
   "metadata": {},
   "outputs": [
    {
     "data": {
      "text/plain": [
       "  id  name\n",
       "----  --------------------------------------------------------------------\n",
       "   1  Doing Business\n",
       "   2  World Development Indicators\n",
       "   3  Worldwide Governance Indicators\n",
       "   5  Subnational Malnutrition Database\n",
       "   6  International Debt Statistics\n",
       "  11  Africa Development Indicators\n",
       "  12  Education Statistics\n",
       "  13  Enterprise Surveys\n",
       "  14  Gender Statistics\n",
       "  15  Global Economic Monitor\n",
       "  16  Health Nutrition and Population Statistics\n",
       "  18  IDA Results Measurement System\n",
       "  19  Millennium Development Goals\n",
       "  20  Quarterly Public Sector Debt\n",
       "  22  Quarterly External Debt Statistics SDDS\n",
       "  23  Quarterly External Debt Statistics GDDS\n",
       "  25  Jobs\n",
       "  27  Global Economic Prospects\n",
       "  28  Global Financial Inclusion\n",
       "  29  The Atlas of Social Protection: Indicators of Resilience and Equity\n",
       "  30  Exporter Dynamics Database – Indicators at Country-Year Level\n",
       "  31  Country Policy and Institutional Assessment\n",
       "  32  Global Financial Development\n",
       "  33  G20 Financial Inclusion Indicators\n",
       "  34  Global Partnership for Education\n",
       "  35  Sustainable Energy for All\n",
       "  37  LAC Equity Lab\n",
       "  38  Subnational Poverty\n",
       "  39  Health Nutrition and Population Statistics by Wealth Quintile\n",
       "  40  Population estimates and projections\n",
       "  41  Country Partnership Strategy for India (FY2013 - 17)\n",
       "  43  Adjusted Net Savings\n",
       "  45  Indonesia Database for Policy and Economic Research\n",
       "  46  Sustainable Development Goals\n",
       "  50  Subnational Population\n",
       "  54  Joint External Debt Hub\n",
       "  57  WDI Database Archives\n",
       "  58  Universal Health Coverage\n",
       "  59  Wealth Accounts\n",
       "  60  Economic Fitness\n",
       "  61  PPPs Regulatory Quality\n",
       "  62  International Comparison Program (ICP) 2011\n",
       "  63  Human Capital Index\n",
       "  64  Worldwide Bureaucracy Indicators\n",
       "  65  Health Equity and Financial Protection Indicators\n",
       "  66  Logistics Performance Index\n",
       "  67  PEFA 2011\n",
       "  68  PEFA 2016\n",
       "  69  Global Financial Inclusion and Consumer Protection Survey\n",
       "  70  Economic Fitness 2\n",
       "  71  International Comparison Program (ICP) 2005\n",
       "  73  Global Financial Inclusion and Consumer Protection Survey (Internal)\n",
       "  75  Environment, Social and Governance (ESG) Data\n",
       "  76  Remittance Prices Worldwide (Sending Countries)\n",
       "  77  Remittance Prices Worldwide (Receiving Countries)\n",
       "  78  ICP 2017\n",
       "  79  PEFA_GRPFM\n",
       "  80  Gender Disaggregated Labor Database (GDLD)\n",
       "  81  International Debt Statistics: DSSI\n",
       "  82  Global Public Procurement\n",
       "  83  Statistical Performance Indicators (SPI)\n",
       "  84  Education Policy\n",
       "  85  PEFA_2021_SNG\n",
       "  86  Global Jobs Indicators Database (JOIN)\n",
       "  87  Country Climate and Development Report (CCDR)\n",
       "  88  Food Prices for Nutrition\n",
       "  89  Identification for Development (ID4D) Data\n",
       "  90  ICP 2021\n",
       "  91  PEFA_CRPFM"
      ]
     },
     "execution_count": 43,
     "metadata": {},
     "output_type": "execute_result"
    }
   ],
   "source": [
    "wbdata.get_sources()"
   ]
  },
  {
   "cell_type": "code",
   "execution_count": 44,
   "metadata": {},
   "outputs": [
    {
     "data": {
      "text/plain": [
       "id                                                 name\n",
       "-------------------------------------------------  ---------------------------------------------------------------------------------------------------------------\n",
       "ENF.CONT.COEN.ATDR                                 Enforcing contracts: Alternative dispute resolution (0-3) (DB16-20 methodology)\n",
       "ENF.CONT.COEN.ATFE.PR                              Enforcing contracts: Attorney fees (% of claim)\n",
       "ENF.CONT.COEN.COST.ZS                              Enforcing contracts: Cost (% of claim)\n",
       "ENF.CONT.COEN.COST.ZS.DFRN                         Enforcing contracts: Cost (% of claim) - Score\n",
       "ENF.CONT.COEN.CSMG                                 Enforcing contracts: Case management (0-6) (DB16-20 methodology)\n",
       "ENF.CONT.COEN.CTAU                                 Enforcing contracts: Court automation (0-4) (DB17-20 methodology)\n",
       "ENF.CONT.COEN.CTFE.PR                              Enforcing contracts: Court fees (% of claim)\n",
       "ENF.CONT.COEN.CTSP.DB1719                          Enforcing contracts: Court structure and proceedings (0-5) (DB17-20 methodology)\n",
       "ENF.CONT.COEN.DB0415.DFRN                          Enforcing contracts (DB04-15 methodology) - Score\n",
       "ENF.CONT.COEN.DB1719.DFRN                          Enforcing contracts (DB17-20 methodology) - Score\n",
       "ENF.CONT.COEN.ENFE.PR                              Enforcing contracts: Enforcement fees (% of claim)\n",
       "ENF.CONT.COEN.ENJU.DY                              Enforcing contracts: Enforcement of judgment (days)\n",
       "ENF.CONT.COEN.FLSR.DY                              Enforcing contracts: Filing and service (days)\n",
       "ENF.CONT.COEN.PROC.NO                              Enforcing contracts: Procedures (number)\n",
       "ENF.CONT.COEN.PROC.NO.DFRN                         Enforcing contracts: Procedures (number) - Score\n",
       "ENF.CONT.COEN.QUJP.DB16.DFRN                       Enforcing contracts: Quality of the judicial processes index (0-19) (DB17-20 methodology) - Score\n",
       "ENF.CONT.COEN.QUJP.XD                              Enforcing contracts: Quality of the judicial processes index (0-18) (DB17-20 methodology)\n",
       "ENF.CONT.COEN.RK.DB19                              Rank: Enforcing contracts (1=most business-friendly regulations)\n",
       "ENF.CONT.COEN.TRJU.DY                              Enforcing contracts: Trial and judgment (days)\n",
       "ENF.CONT.DURS.DY                                   Enforcing contracts: Time (days)\n",
       "ENF.CONT.DURS.DY.DFRN                              Enforcing contracts: Time (days) - Score\n",
       "IC.BUS.EASE.DFRN.DB1014                            Global: Ease of doing business score (DB10-14 methodology)\n",
       "IC.BUS.EASE.DFRN.DB16                              Global: Ease of doing business score (DB15 methodology)\n",
       "IC.BUS.EASE.DFRN.XQ.DB1719                         Global: Ease of doing business score (DB17-20 methodology)\n",
       "IC.BUS.EASE.XQ                                     Ease of doing business rank (1=most business-friendly regulations)\n",
       "IC.CNST.LIR.XD.02.DB1619                           Dealing with construction permits: Liability and insurance regimes index (0-2) (DB16-20 methodology)\n",
       "IC.CNST.PC.XD.04.DB1619                            Dealing with construction permits: Professional certifications index (0-4) (DB16-20 methodology)\n",
       "IC.CNST.PRMT.BQCI.015.DB1619.DFRN                  Dealing with construction permits: Building quality control index (0-15) (DB16-20 methodology) - Score\n",
       "IC.CNST.PRMT.COST.WRH.VAL                          Dealing with construction permits: Cost (% of Warehouse value)\n",
       "IC.CNST.PRMT.COST.WRH.VAL.DFRN                     Dealing with construction permits: Cost (% of Warehouse value) - Score\n",
       "IC.CNST.PRMT.DFRN.DB0615                           Dealing with construction permits (DB06-15 methodology) - Score\n",
       "IC.CNST.PRMT.DFRN.DB1619                           Dealing with construction permits (DB16-20 methodology) - Score\n",
       "IC.CNST.PRMT.PROC.NO                               Dealing with construction permits: Procedures (number)\n",
       "IC.CNST.PRMT.PROC.NO.DFRN                          Dealing with construction permits: Procedures (number) - Score\n",
       "IC.CNST.PRMT.QBR.XD.02.DB1619                      Dealing with construction permits: Quality of building regulations index (0-2) (DB16-20 methodology)\n",
       "IC.CNST.PRMT.QCAC.XD.DB1619                        Dealing with construction permits: Quality control after construction index (0-3) (DB16-20 methodology)\n",
       "IC.CNST.PRMT.QCBC.XD.01.DB1619                     Dealing with construction permits: Quality control before construction index (0-1) (DB16-20 methodology)\n",
       "IC.CNST.PRMT.QCDC.XD.03.DB1619                     Dealing with construction permits: Quality control during construction index (0-3) (DB16-20 methodology)\n",
       "IC.CNST.PRMT.RK                                    Rank: Dealing with construction permits (1=most business-friendly regulations)\n",
       "IC.CNST.PRMT.TM.DY                                 Dealing with construction permits: Time (days)\n",
       "IC.CNST.PRMT.TM.DY.DFRN                            Dealing with construction permits: Time (days)  - Score\n",
       "IC.CRED.ACC.ACES.DB0514                            Getting Credit total score (DB05-14 methodology)\n",
       "IC.CRED.ACC.ACES.DB1519                            Getting Credit total score (DB15-20 methodology)\n",
       "IC.CRED.ACC.CRD.DB0514.DFRN                        Getting credit (DB05-14 methodology) - Score\n",
       "IC.CRED.ACC.CRD.DB1519.DFRN                        Getting credit (DB15-20 methodology) - Score\n",
       "IC.CRED.ACC.CRD.RK                                 Rank: Getting credit (1=most business-friendly regulations)\n",
       "IC.CRED.ACC.DPTH.CISI.XD.06.DB0514                 Getting credit: Depth of credit information index (0-6) (DB05-14 methodology)\n",
       "IC.CRED.ACC.DPTH.CISI.XD.06.DB0514.DFRN            Getting credit: Depth of credit information index (0-6) (DB05-14 methodology) - Score\n",
       "IC.CRED.ACC.DPTH.CISI.XD.08.DB1519                 Getting credit: Depth of credit information index (0-8) (DB15-20 methodology)\n",
       "IC.CRED.ACC.DPTH.CISI.XD.08.DB1519.DFRN            Getting credit: Depth of credit information index (0-8) (DB15-20 methodology) - Score\n",
       "IC.CRED.ACC.LGL.RGHT.010.XD.DB0514.DFRN            Getting credit: Strength of legal rights index (0-10) (DB05-14 methodology) - Score\n",
       "IC.CRED.ACC.LGL.RGHT.012.XD.DB1519.DFRN            Getting credit: Strength of legal rights index (0-12) (DB15-20 methodology) - Score\n",
       "IC.CRED.ACC.LGL.RGHT.XD.010.DB0514                 Getting credit: Strength of legal rights index (0-10) (DB05-14 methodology)\n",
       "IC.CRED.ACC.LGL.RGHT.XD.012.DB1519                 Getting credit: Strength of legal rights index (0-12) (DB15-20 methodology)\n",
       "IC.CRED.ACC.PRVT.CRD.ZS                            Getting credit: Credit bureau coverage (% of adults)\n",
       "IC.CRED.ACC.PUBL.CRD.REG.COVR.ZS                   Getting credit: Credit registry coverage (% of adults)\n",
       "IC.DCP.BQC.XD.015.DB1619                           Dealing with construction permits: Building quality control index (0-15) (DB16-20 methodology)\n",
       "IC.ELC.ACES.DFRN.DB1015                            Getting electricity (DB10-15 methodology) - Score\n",
       "IC.ELC.ACES.DFRN.DB1619                            Getting electricity (DB16-20 methodology) - Score\n",
       "IC.ELC.ACES.RK.DB19                                Rank: Getting electricity (1=most business-friendly regulations)\n",
       "IC.ELC.ACS.COST                                    Getting electricity: Cost to get electricity (% of income per capita)\n",
       "IC.ELC.ACS.COST.DFRN                               Getting electricity: Cost to get electricity (% of income per capita) - Score\n",
       "IC.ELC.COMM.TRFF.CG.01.DB1619                      Getting electricity: Communication of tariffs and tariff changes (0-1) (DB16-20 methodology)\n",
       "IC.ELC.LMTG.OUTG.01.DB1619                         Getting electricity: Financial deterrents aimed at limiting outages (0-1) (DB16-20 methodology)\n",
       "IC.ELC.MONT.OUTG.01.DB1619                         Getting electricity: Mechanisms for monitoring outages (0-1) (DB16-20 methodology)\n",
       "IC.ELC.OUTG.FREQ.DURS.03.DB1619                    Getting electricity: Total duration and frequency of outages per customer a year (0-3) (DB16-20 methodology)\n",
       "IC.ELC.OUTG.MN.DB1619                              Getting electricity: Minimum outage time (in minutes)  (DB16-20 methodology)\n",
       "IC.ELC.PRI.KH.DB1619                               Getting electricity: Price of electricity (US cents per kWh) (DB16-20 methodology)\n",
       "IC.ELC.PROC.NO                                     Getting electricity: Procedures (number)\n",
       "IC.ELC.PROC.NO.DFRN                                Getting electricity: Procedures (number) - Score\n",
       "IC.ELC.REGU.MONT.01.DB1619                         Getting electricity: Regulatory monitoring (0-1) (DB16-20 methodology)\n",
       "IC.ELC.RSTOR.01.DB1619                             Getting electricity: Mechanisms for restoring service (0-1) (DB16-20 methodology)\n",
       "IC.ELC.RSTT.XD.08.DB1619                           Getting electricity: Reliability of supply and transparency of tariff index (0-8) (DB16-20 methodology)\n",
       "IC.ELC.RSTT.XD.08.DFRN.DB1619                      Getting electricity: Reliability of supply and transparency of tariff index (0-8) (DB16-20 methodology) - Score\n",
       "IC.ELC.SAID.XD.DB1619                              Getting electricity: System average interruption duration index (SAIDI) (DB16-20 methodology)\n",
       "IC.ELC.SAIF.XD.DB1619                              Getting electricity: System average interruption frequency index (SAIFI) (DB16-20 methodology)\n",
       "IC.ELC.TIME                                        Time required to get electricity (days)\n",
       "IC.ELC.TIME.DFRN                                   Getting electricity: Time (days) - Score\n",
       "IC.REG.COST.PC.FE.ZS                               Cost of business start-up procedures, female (% of GNI per capita)\n",
       "IC.REG.COST.PC.FE.ZS.DRFN                          Starting a business: Cost - Women (% of income per capita) - Score\n",
       "IC.REG.COST.PC.MA.ZS                               Cost of business start-up procedures, male (% of GNI per capita)\n",
       "IC.REG.COST.PC.MA.ZS.DFRN                          Starting a business: Cost - Men (% of income per capita) - Score\n",
       "IC.REG.DFRN.PC.DFRN                                Starting a business: Paid-in Minimum capital (% of income per capita) - Score\n",
       "IC.REG.DURS.FE.DY                                  Starting a business: Time - Women (days)\n",
       "IC.REG.DURS.FE.DY.DRFN                             Starting a business: Time - Women (days)- Score\n",
       "IC.REG.DURS.MA.DY                                  Starting a business: Time - Men (days)\n",
       "IC.REG.DURS.MA.DY.DFRN                             Starting a business: Time - Men (days) - Score\n",
       "IC.REG.MIN.CAP                                     Starting a business: Minimum capital (% of income per capita)\n",
       "IC.REG.PROC.FE.NO                                  Starting a business: Procedures required - Women (number)\n",
       "IC.REG.PROC.FE.NO.DFRN                             Starting a business: Procedures required - Women (number) - Score\n",
       "IC.REG.PROC.MA.NO                                  Starting a business: Procedures required - Men (number)\n",
       "IC.REG.PROC.MA.NO.DFRN                             Starting a business: Procedures required - Men (number) - Score\n",
       "IC.REG.PRRT.COST.PRT.VAL                           Registering property: Cost (% of property value)\n",
       "IC.REG.PRRT.COST.PRT.VAL.DFRN                      Registering property: Cost (% of property value) - Score\n",
       "IC.REG.PRRT.DFRN.DB0515                            Registering property (DB05-15 methodology) - Score\n",
       "IC.REG.PRRT.DFRN.DB1719                            Registering property (DB17-20 methodology) - Score\n",
       "IC.REG.PRRT.DURS.TM                                Registering property: Time (days)\n",
       "IC.REG.PRRT.DURS.TM.DRFN                           Registering property: Time (days) - Score\n",
       "IC.REG.PRRT.EQACCS.XD.08.DB1619                    Registering property: Equal access to property rights index (-2-0) (DB17-20 methodology)\n",
       "IC.REG.PRRT.GEO.COVR.XD.08.DB1619                  Registering property: Geographic coverage index (0-8) (DB16-20 methodology)\n",
       "IC.REG.PRRT.LAND.DISP.XD.08.DB1619                 Registering property: Land dispute resolution index (0-8) (DB16-20 methodology)\n",
       "IC.REG.PRRT.PROC.NO                                Registering property: Procedures (number)\n",
       "IC.REG.PRRT.PROC.NO.DFRN                           Registering property: Procedures (number) - Score\n",
       "IC.REG.PRRT.QUAL.LNDADM.XD.030.DB16                Registering property: Quality of land administration index (0-30) (DB17-20 methodology)\n",
       "IC.REG.PRRT.QUAL.LNDADM.XD.030.DB16.DFRN           Registering property: Quality of land administration index (0-30) (DB17-20 methodology) - Score\n",
       "IC.REG.PRRT.REG.RK.DB19                            Rank: Registering property (1=most business-friendly regulations)\n",
       "IC.REG.PRRT.RELI.INFR.XD.09.DB1619                 Registering property: Reliability of infrastructure index (0-8) (DB16-20 methodology)\n",
       "IC.REG.PRRT.TRAP.INFO.XD.06.DB1619                 Registering property: Transparency of information index (0-6) (DB16-20 methodology)\n",
       "IC.REG.STRT.BUS.DFRN                               Starting a business - Score\n",
       "IC.REG.STRT.BUS.RK.DB19                            Rank: Starting a business (1=most business-friendly regulations)\n",
       "OTHR.TAX.PAID.ZS                                   Other taxes (% of profits)\n",
       "PAY.TAX.COIT.AU.HRS.DB1719                         Paying taxes: Time to comply with corporate income tax correction (hours) (DB17-20 methodology)\n",
       "PAY.TAX.COIT.AU.HRS.TM.DB1719.DFRN                 Paying taxes: Time to comply with corporate income tax correction (hours) (DB17-20 methodology) - Score\n",
       "PAY.TAX.COIT.AU.WKS.DB1719                         Paying taxes: Time to complete a corporate income tax correction (weeks) (DB17-20 methodology)\n",
       "PAY.TAX.COIT.WKS.TM.DB1719.DFRN                    Paying taxes: Time to complete a corporate income tax correction (weeks) (DB17-20 methodology) - Score\n",
       "PAY.TAX.DB0616.DFRN                                Paying taxes (DB06-16 methodology) - Score\n",
       "PAY.TAX.DB1719.DRFN                                Paying taxes (DB17-20 methodology) - Score\n",
       "PAY.TAX.LABR.TAX.CONTR.ZS                          Paying taxes: Labor tax and contributions (% of profits)\n",
       "PAY.TAX.POST.FIL.XD.0100.DB1719.DFRN               Paying taxes: Postfiling index (0-100) (DB17-20 methodology) - Score\n",
       "PAY.TAX.PRFT.CP.ZS                                 Paying taxes: Profit tax (% of profits)\n",
       "PAY.TAX.PYMT.FREQ.NO                               Paying taxes: Payments (number per year)\n",
       "PAY.TAX.PYMT.NO.DFRN                               Paying taxes: Payments per year (number per year) - Score\n",
       "PAY.TAX.RK.DB19                                    Rank: Paying taxes (1=most business-friendly regulations)\n",
       "PAY.TAX.TM                                         Paying taxes: Time (hours per year)\n",
       "PAY.TAX.TM.DFRN                                    Paying taxes: Time (hours per year) - Score\n",
       "PAY.TAX.TOT.TAX.RT.ZS                              Paying taxes: Total tax and contribution rate (% of profit)\n",
       "PAY.TAX.TOT.TAX.RT.ZS.DRFRN                        Paying taxes: Total tax and contribution rate (% of profit) - Score\n",
       "PAY.TAX.VAT.REF.OBT.WKS.TM.DB1719                  Paying taxes: Time to obtain VAT refund (weeks) (DB17-20 methodology)\n",
       "PAY.TAX.VAT.REF.OBT.WKS.TM.DB1719.DFRN             Paying taxes: Time to obtain VAT refund (weeks) (DB17-20 methodology) - Score\n",
       "PAY.TAX.VAT.REFU.COMP.HRS.TM.DB1719                Paying taxes: Time to comply with VAT refund (hours) (DB17-20 methodology)\n",
       "PAY.TAX.VAT.REFU.COMP.HRS.TM.DB1719.DFRN           Paying taxes: Time to comply with VAT refund (hours) (DB17-20 methodology) - Score\n",
       "PROT.MINOR.INV.DFRN.DB0614                         Protecting minority investors (DB06-14 methodology) - Score\n",
       "PROT.MINOR.INV.DFRN.DB1519                         Protecting minority investors (DB15-20 methodology) - Score\n",
       "PROT.MINOR.INV.EASE.SHARE.LGL.XD.010.DB0614        Protecting minority investors: Ease of shareholder suits index (0-10) (DB06-14 methodology)\n",
       "PROT.MINOR.INV.EASE.SHARE.LGL.XD.010.DB1519        Protecting minority investors: Ease of shareholder suits index (0-10) (DB15-20 methodology)\n",
       "PROT.MINOR.INV.EASE.SSI.XD.0010.DB0614.DFRN        Protecting minority investors: Ease of shareholder suits index (0-10) (DB06-14 methodology) - Score\n",
       "PROT.MINOR.INV.EASE.SSI.XD.0010.DB1519.DFRN        Protecting minority investors: Ease of shareholder suits index (0-10) (DB15-20 methodology) - Score\n",
       "PROT.MINOR.INV.EXT.BUS.DISC.010.XD                 Protecting minority investors: Extent of disclosure index (0-10)\n",
       "PROT.MINOR.INV.EXT.CORP.TRANP.XD.0010.DB1519       Protecting minority investors: Extent of corporate transparency index (0-7) (DB15-20 methodology)\n",
       "PROT.MINOR.INV.EXT.CORP.TRANS.XD.010.DB1519.DFRN   Protecting minority investors: Extent of corporate transparency index (0-7) (DB15-20 methodology) - Score\n",
       "PROT.MINOR.INV.EXT.DIR.LBL.010.XD.DFRN             Protecting minority investors: Extent of director liability index (0-10) - Score\n",
       "PROT.MINOR.INV.EXT.DISC.010.XD.DFRN                Protecting minority investors: Extent of disclosure index (0-10) - Score\n",
       "PROT.MINOR.INV.EXT.OWNR.CONT.XD.0100.DB1519        Protecting minority investors: Extent of ownership and control index (0-7) (DB15-20 methodology)\n",
       "PROT.MINOR.INV.EXT.OWNR.CONTL.010.XD.DFRN          Protecting minority investors: Extent of ownership and control index (0-7) (DB15-20 methodology) - Score\n",
       "PROT.MINOR.INV.EXT.SHARE.RTS.XD.010.DB1519         Protecting minority investors: Extent of shareholder rights index (0-6) (DB15-20 methodology)\n",
       "PROT.MINOR.INV.EXT.SHRHLD.RGT.XD.0010.DB1519.DRFN  Protecting minority investors: Extent of shareholder rights index (0-6) (DB15-20 methodology) - Score\n",
       "PROT.MINOR.INV.IC.PRIN.EXT.DIR.LGL.010.XD          Protecting minority investors: Extent of director liability index (0-10)\n",
       "PROT.MINOR.INV.IC.PRIN.MINOR.RK                    Rank: Protecting minority investors (1=most business-friendly regulations)\n",
       "PROT.MINOR.INV.STRENG.INV.PROT.XD.010.DB0614       Protecting minority investors: Strength of investor protection index (0-10) (DB06-14 methodology)\n",
       "PROT.MINOR.INV.STRENG.MIN.INV.PROT.XD.010.DB0614   Protecting minority investors: Strength of minority investor protection index (0-50) (DB15-20 methodology)\n",
       "RESLV.ISV.COPR.03.XD.DB1519                        Resolving insolvency: Commencement of proceedings index (0-3) (DB15-20 methodology)\n",
       "RESLV.ISV.COST.ZS                                  Resolving insolvency: Cost (% of estate)\n",
       "RESLV.ISV.CPI.04.XD.DB1519                         Resolving insolvency: Creditor participation index (0-4) (DB15-20 methodology)\n",
       "RESLV.ISV.DB1519.DFRN                              Resolving insolvency - Score\n",
       "RESLV.ISV.DFRN.RCOV.RT                             Resolving insolvency: Recovery rate (cents on the dollar) - Score\n",
       "RESLV.ISV.DURS.YR                                  Resolving insolvency: Time (years)\n",
       "RESLV.ISV.MGDA.XD.DB1519                           Resolving insolvency: Management of debtor's assets index (0-6) (DB15-20 methodology)\n",
       "RESLV.ISV.OTCM                                     Resolving insolvency: Outcome (0 as piecemeal sale and 1 as going concern)\n",
       "RESLV.ISV.RCOV.RT                                  Resolving insolvency: Recovery rate (cents on the dollar)\n",
       "RESLV.ISV.RCOV.RT.016.DB1519.DFRN                  Resolving insolvency: Strength of insolvency framework index (0-16) - Score\n",
       "RESLV.ISV.RK.DB19                                  Rank: Resolving insolvency (1=most business-friendly regulations)\n",
       "RESLV.ISV.ROPC.03.XD.DB1519                        Reorganization proceedings index (0-3) (DB15-20 methodology)\n",
       "RESLV.ISV.SOIF.06.DB1519                           Resolving insolvency: Strength of insolvency framework index (0-16)\n",
       "TRD.ACRS.BRDR.DB0615.DFRN                          Trading across borders (DB06-15 methodology) - Score\n",
       "TRD.ACRS.BRDR.DB1619.DFRN                          Trading across borders (DB16-20 methodology) - Score\n",
       "TRD.ACRS.BRDR.DOC.COMP.HR.DB1619                   Time to export: Documentary compliance (hours) (DB16-20 methodology)\n",
       "TRD.ACRS.BRDR.DOCS.EXPT.NO.DB0615                  Trading across borders: Documents to export (number) (DB06-15 methodology)\n",
       "TRD.ACRS.BRDR.DOCS.EXPT.NO.DB0615.DFRN             Trading across borders: Documents to export (number) (DB06-15 methodology) - Score\n",
       "TRD.ACRS.BRDR.DOCS.IMP.NO.DB0615                   Trading across borders: Documents to import (number) (DB06-15 methodology)\n",
       "TRD.ACRS.BRDR.DOCS.IMP.NO.DB0615.DFRN              Trading across borders: Documents to import (number) (DB06-15 methodology) - Score\n",
       "TRD.ACRS.BRDR.EXPT.BRDR.COMP.HR.DB1619             Time to export: Border compliance (hours) (DB16-20 methodology)\n",
       "TRD.ACRS.BRDR.EXPT.COST.BRDR.COMP.CD.DB1619        Trading across borders: Cost to export: Border compliance (USD) (DB16-20 methodology)\n",
       "TRD.ACRS.BRDR.EXPT.COST.BRDR.COMP.CD.DB1619.DFRN   Trading across borders: Cost to export: Border compliance (USD) (DB16-20 methodology) - Score\n",
       "TRD.ACRS.BRDR.EXPT.COST.CD.DB0615                  Trading across borders: Cost to export (US$ per container deflated) (DB06-15 methodology)\n",
       "TRD.ACRS.BRDR.EXPT.COST.CD.DB0615.DFRN             Trading across borders: Cost to export (US$ per container) (DB06-15 methodology) - Score\n",
       "TRD.ACRS.BRDR.EXPT.COST.DOC.COMP.CD.DB1619         Trading across borders: Cost to export: Documentary compliance (USD) (DB16-20 methodology)\n",
       "TRD.ACRS.BRDR.EXPT.COST.DOC.COMP.CD.DB1619.DFRN    Trading across borders: Cost to export: Documentary compliance (USD) (DB16-20 methodology) - Score\n",
       "TRD.ACRS.BRDR.EXPT.DURS.DY.DB0615                  Time to export (days) (DB06-15 methodology)\n",
       "TRD.ACRS.BRDR.EXPT.TM.BRDR.COMP.HR.DB1619.DFRN     Trading across borders: Time to export: Border compliance (hours) (DB16-20 methodology) - Score\n",
       "TRD.ACRS.BRDR.EXPT.TM.DOC.COMP.HR.DB1619.DFRN      Trading across borders: Time to export: Documentary compliance (hours) (DB16-20 methodology) - Score\n",
       "TRD.ACRS.BRDR.EXPT.TM.DY.DB0615.DFRN               Trading across borders: Time to export (days) (DB06-15 methodology) - Score\n",
       "TRD.ACRS.BRDR.IMP.BRDR.COMP.HR.DB1619              Time to import: Border compliance (hours) (DB16-20 methodology)\n",
       "TRD.ACRS.BRDR.IMP.COST.BRDR.COMP.CD.DB1619         Trading across borders: Cost to import: Border compliance (USD) (DB16-20 methodology)\n",
       "TRD.ACRS.BRDR.IMP.COST.BRDR.COMP.CD.DB1619.DFRN    Trading across borders: Cost to import: Border compliance (USD) (DB16-20 methodology) - Score\n",
       "TRD.ACRS.BRDR.IMP.COST.CD.DB0615                   Trading across borders: Cost to import (US$ per container deflated)(DB06-15 methodology)\n",
       "TRD.ACRS.BRDR.IMP.COST.CD.DB0615.DFRN              Trading across borders: Cost to import (US$ per container)(DB06-15 methodology) - Score\n",
       "TRD.ACRS.BRDR.IMP.COST.DOC.COMP.CD.DB1619          Trading across borders: Cost to import: Documentary compliance (USD) (DB16-20 methodology)\n",
       "TRD.ACRS.BRDR.IMP.COST.DOC.COMP.CD.DB1619.DFRN     Trading across borders: Cost to import: Documentary compliance (USD) (DB16-20 methodology) - Score\n",
       "TRD.ACRS.BRDR.IMP.DOC.COMP.HR.DB1619               Time to import: Documentary compliance (hours) (DB16-20 methodology)\n",
       "TRD.ACRS.BRDR.IMP.DURS.DY.DB0615                   Time to import (days) (DB06-15 methodology)\n",
       "TRD.ACRS.BRDR.IMP.TM.BRDR.COMP.HR.DB1619.DFRN      Trading across borders: Time to import: Border compliance (hours) (DB16-20 methodology) - Score\n",
       "TRD.ACRS.BRDR.IMP.TM.DOC.COMP.HR.DB1619.DFRN       Trading across borders: Time to import: Documentary compliance (hours) (DB16-20 methodology) - Score\n",
       "TRD.ACRS.BRDR.IMP.TM.DY.DB0615.DFRN                Trading across borders: Time to import (days) (DB06-15 methodology) - Score\n",
       "TRD.ACRS.BRDR.RK.DB19                              Rank: Trading across borders (1=most business-friendly regulations)"
      ]
     },
     "execution_count": 44,
     "metadata": {},
     "output_type": "execute_result"
    }
   ],
   "source": [
    "wbdata.get_indicators(source =1)"
   ]
  },
  {
   "cell_type": "code",
   "execution_count": 45,
   "metadata": {},
   "outputs": [
    {
     "data": {
      "text/plain": [
       "id    name\n",
       "----  --------------------\n",
       "ARE   United Arab Emirates\n",
       "GBR   United Kingdom\n",
       "USA   United States"
      ]
     },
     "execution_count": 45,
     "metadata": {},
     "output_type": "execute_result"
    }
   ],
   "source": [
    "wbdata.get_countries(query = 'united')"
   ]
  },
  {
   "cell_type": "code",
   "execution_count": 46,
   "metadata": {},
   "outputs": [
    {
     "name": "stdout",
     "output_type": "stream",
     "text": [
      "                                           indicator  \\\n",
      "0  {'id': 'SL.UEM.TOTL.ZS', 'value': 'Unemploymen...   \n",
      "1  {'id': 'SL.UEM.TOTL.ZS', 'value': 'Unemploymen...   \n",
      "2  {'id': 'SL.UEM.TOTL.ZS', 'value': 'Unemploymen...   \n",
      "3  {'id': 'SL.UEM.TOTL.ZS', 'value': 'Unemploymen...   \n",
      "4  {'id': 'SL.UEM.TOTL.ZS', 'value': 'Unemploymen...   \n",
      "\n",
      "                            country countryiso3code  date  value unit  \\\n",
      "0  {'id': 'DE', 'value': 'Germany'}             DEU  2020  3.856        \n",
      "1  {'id': 'DE', 'value': 'Germany'}             DEU  2019  3.136        \n",
      "2  {'id': 'DE', 'value': 'Germany'}             DEU  2018  3.384        \n",
      "3  {'id': 'DE', 'value': 'Germany'}             DEU  2017  3.746        \n",
      "4  {'id': 'DE', 'value': 'Germany'}             DEU  2016  4.122        \n",
      "\n",
      "  obs_status  decimal  \n",
      "0                   1  \n",
      "1                   1  \n",
      "2                   1  \n",
      "3                   1  \n",
      "4                   1  \n"
     ]
    }
   ],
   "source": [
    "# 데이터 가져오기\n",
    "df = wbdata.get_data(indicator='SL.UEM.TOTL.ZS', country=['FR', 'DE', 'GB'], date=('2010', '2020'))\n",
    "\n",
    "# 리스트 데이터를 DataFrame으로 변환\n",
    "df_second = pd.DataFrame(df)\n",
    "\n",
    "print(df_second.head())"
   ]
  },
  {
   "cell_type": "code",
   "execution_count": 47,
   "metadata": {},
   "outputs": [
    {
     "name": "stdout",
     "output_type": "stream",
     "text": [
      "Empty DataFrame\n",
      "Columns: [indicator, country, countryiso3code, date, value, unit, obs_status, decimal]\n",
      "Index: []\n",
      "Empty DataFrame\n",
      "Columns: [indicator, country, countryiso3code, date, value, unit, obs_status, decimal]\n",
      "Index: []\n",
      "Empty DataFrame\n",
      "Columns: [indicator, country, countryiso3code, date, value, unit, obs_status, decimal]\n",
      "Index: []\n"
     ]
    }
   ],
   "source": [
    "for country in ['FR', 'DE', 'GB']:\n",
    "    country_data = df_second[df_second['countryiso3code'] == country]\n",
    "    print(country_data)"
   ]
  },
  {
   "cell_type": "code",
   "execution_count": 48,
   "metadata": {},
   "outputs": [
    {
     "name": "stdout",
     "output_type": "stream",
     "text": [
      "Empty DataFrame\n",
      "Columns: [indicator, country, countryiso3code, date, value, unit, obs_status, decimal]\n",
      "Index: []\n",
      "Empty DataFrame\n",
      "Columns: [indicator, country, countryiso3code, date, value, unit, obs_status, decimal]\n",
      "Index: []\n",
      "Empty DataFrame\n",
      "Columns: [indicator, country, countryiso3code, date, value, unit, obs_status, decimal]\n",
      "Index: []\n"
     ]
    }
   ],
   "source": [
    "for country in ['FR', 'DE', 'GB']:\n",
    "    country_data = df_second[df_second['countryiso3code'] == country]\n",
    "    print(country_data)"
   ]
  },
  {
   "cell_type": "code",
   "execution_count": 49,
   "metadata": {},
   "outputs": [
    {
     "data": {
      "image/png": "[encoded data removed]",
      "text/plain": [
       "<Figure size 1000x600 with 1 Axes>"
      ]
     },
     "metadata": {},
     "output_type": "display_data"
    }
   ],
   "source": [
    "# 시각화\n",
    "plt.figure(figsize=(10, 6))\n",
    "\n",
    "# 국가별 데이터를 선으로 그리기\n",
    "for country in ['FR', 'DE', 'GB']:\n",
    "    country_data = df_second[df_second['countryiso3code'] == country]\n",
    "    plt.plot(country_data['date'], country_data['value'], marker='o', label=country)\n",
    "\n",
    "# 그래프 설정\n",
    "plt.title('Unemployment Rate (2010-2020)', fontsize=16)\n",
    "plt.xlabel('Year', fontsize=12)\n",
    "plt.ylabel('Unemployment Rate (%)', fontsize=12)\n",
    "\n",
    "plt.legend(title='Country', fontsize=10)\n",
    "plt.tight_layout()\n",
    "\n",
    "# 그래프 표시\n",
    "plt.show()\n",
    "plt.show()"
   ]
  }
 ],
 "metadata": {
  "kernelspec": {
   "display_name": "Python 3",
   "language": "python",
   "name": "python3"
  },
  "language_info": {
   "codemirror_mode": {
    "name": "ipython",
    "version": 3
   },
   "file_extension": ".py",
   "mimetype": "text/x-python",
   "name": "python",
   "nbconvert_exporter": "python",
   "pygments_lexer": "ipython3",
   "version": "3.11.11"
  }
 },
 "nbformat": 4,
 "nbformat_minor": 2
}
