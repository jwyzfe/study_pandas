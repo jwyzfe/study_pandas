{
 "cells": [
  {
   "cell_type": "code",
   "execution_count": 30,
   "metadata": {},
   "outputs": [],
   "source": [
    "import matplotlib.pyplot as plt\n",
    "import pandas as pd"
   ]
  },
  {
   "cell_type": "code",
   "execution_count": 44,
   "metadata": {},
   "outputs": [
    {
     "name": "stderr",
     "output_type": "stream",
     "text": [
      "/usr/local/lib/python3.11/site-packages/openpyxl/styles/stylesheet.py:237: UserWarning: Workbook contains no default style, apply openpyxl's default\n",
      "  warn(\"Workbook contains no default style, apply openpyxl's default\")\n"
     ]
    }
   ],
   "source": [
    "\n",
    "# 데이터 읽기\n",
    "file_path = '../datasets/GDP.xlsx'\n",
    "df_gdp = pd.read_excel(file_path, header=0)\n"
   ]
  },
  {
   "cell_type": "code",
   "execution_count": 43,
   "metadata": {},
   "outputs": [
    {
     "name": "stdout",
     "output_type": "stream",
     "text": [
      "『국내총생산 및 경제성장률 (GDP)』      NaN 국내총생산(명목GDP) 경제성장률(실질GDP성장률)\n",
      "Unnamed: 1             20221/4    553,664.8             3.5\n",
      "Unnamed: 2             20222/4    581,793.9             3.0\n",
      "Unnamed: 3             20223/4    588,594.0             3.4\n",
      "Unnamed: 4             20224/4    599,728.8             1.1\n",
      "Unnamed: 5             20231/4    565,099.2             1.1\n",
      "Unnamed: 6             20232/4    592,222.8             1.0\n",
      "Unnamed: 7             20233/4    611,097.6             1.4\n",
      "Unnamed: 8             20234/4    632,769.8             2.1\n",
      "Unnamed: 9             20241/4    606,213.9             3.3\n",
      "Unnamed: 10            20242/4    634,718.4             2.3\n",
      "Unnamed: 11            20243/4    641,917.7             1.5\n"
     ]
    }
   ],
   "source": [
    "\n",
    "# 필요한 행 선택: 27~29행이 GDP와 관련된 데이터\n",
    "row_gdp = df_gdp.iloc[27:30]  \n",
    "df_gdpdrop = df_gdp.dropna(axis=1, how='all')\n",
    "\n",
    "# 첫 번째 행을 열 이름으로 설정하고, 두 번째 행을 인덱스로 설정한 후 전치\n",
    "row_gdp_transposed = row_gdp.set_index(row_gdp.columns[0]).transpose()\n",
    "\n",
    "# 전치된 데이터 확인\n",
    "print(row_gdp_transposed)"
   ]
  },
  {
   "cell_type": "code",
   "execution_count": 49,
   "metadata": {},
   "outputs": [
    {
     "data": {
      "text/html": [
       "<div>\n",
       "<style scoped>\n",
       "    .dataframe tbody tr th:only-of-type {\n",
       "        vertical-align: middle;\n",
       "    }\n",
       "\n",
       "    .dataframe tbody tr th {\n",
       "        vertical-align: top;\n",
       "    }\n",
       "\n",
       "    .dataframe thead th {\n",
       "        text-align: right;\n",
       "    }\n",
       "</style>\n",
       "<table border=\"1\" class=\"dataframe\">\n",
       "  <thead>\n",
       "    <tr style=\"text-align: right;\">\n",
       "      <th>3</th>\n",
       "      <th>분기</th>\n",
       "      <th>5</th>\n",
       "      <th>5</th>\n",
       "      <th>6</th>\n",
       "      <th>Unnamed: 8</th>\n",
       "      <th>20234/4</th>\n",
       "      <th>632,769.8</th>\n",
       "      <th>2.1</th>\n",
       "    </tr>\n",
       "  </thead>\n",
       "  <tbody>\n",
       "    <tr>\n",
       "      <th>0</th>\n",
       "      <td>1</td>\n",
       "      <td>3</td>\n",
       "      <td>3</td>\n",
       "      <td>4</td>\n",
       "      <td>Unnamed: 6</td>\n",
       "      <td>20232/4</td>\n",
       "      <td>592,222.8</td>\n",
       "      <td>1.0</td>\n",
       "    </tr>\n",
       "    <tr>\n",
       "      <th>1</th>\n",
       "      <td>2</td>\n",
       "      <td>4</td>\n",
       "      <td>4</td>\n",
       "      <td>5</td>\n",
       "      <td>Unnamed: 7</td>\n",
       "      <td>20233/4</td>\n",
       "      <td>611,097.6</td>\n",
       "      <td>1.4</td>\n",
       "    </tr>\n",
       "    <tr>\n",
       "      <th>2</th>\n",
       "      <td>3</td>\n",
       "      <td>5</td>\n",
       "      <td>5</td>\n",
       "      <td>6</td>\n",
       "      <td>Unnamed: 8</td>\n",
       "      <td>20234/4</td>\n",
       "      <td>632,769.8</td>\n",
       "      <td>2.1</td>\n",
       "    </tr>\n",
       "    <tr>\n",
       "      <th>3</th>\n",
       "      <td>4</td>\n",
       "      <td>6</td>\n",
       "      <td>6</td>\n",
       "      <td>7</td>\n",
       "      <td>Unnamed: 9</td>\n",
       "      <td>20241/4</td>\n",
       "      <td>606,213.9</td>\n",
       "      <td>3.3</td>\n",
       "    </tr>\n",
       "    <tr>\n",
       "      <th>4</th>\n",
       "      <td>5</td>\n",
       "      <td>7</td>\n",
       "      <td>7</td>\n",
       "      <td>8</td>\n",
       "      <td>Unnamed: 10</td>\n",
       "      <td>20242/4</td>\n",
       "      <td>634,718.4</td>\n",
       "      <td>2.3</td>\n",
       "    </tr>\n",
       "    <tr>\n",
       "      <th>5</th>\n",
       "      <td>6</td>\n",
       "      <td>8</td>\n",
       "      <td>8</td>\n",
       "      <td>9</td>\n",
       "      <td>Unnamed: 11</td>\n",
       "      <td>20243/4</td>\n",
       "      <td>641,917.7</td>\n",
       "      <td>1.5</td>\n",
       "    </tr>\n",
       "  </tbody>\n",
       "</table>\n",
       "</div>"
      ],
      "text/plain": [
       "3  분기  5  5  6   Unnamed: 8  20234/4  632,769.8  2.1\n",
       "0   1  3  3  4   Unnamed: 6  20232/4  592,222.8  1.0\n",
       "1   2  4  4  5   Unnamed: 7  20233/4  611,097.6  1.4\n",
       "2   3  5  5  6   Unnamed: 8  20234/4  632,769.8  2.1\n",
       "3   4  6  6  7   Unnamed: 9  20241/4  606,213.9  3.3\n",
       "4   5  7  7  8  Unnamed: 10  20242/4  634,718.4  2.3\n",
       "5   6  8  8  9  Unnamed: 11  20243/4  641,917.7  1.5"
      ]
     },
     "execution_count": 49,
     "metadata": {},
     "output_type": "execute_result"
    }
   ],
   "source": [
    "# 첫 번째 행과 두 번째 행을 각각 인덱스와 열 이름으로 설정\n",
    "row_gdp_transposed.columns = row_gdp_transposed.iloc[3]  \n",
    "row_gdp_transposed = row_gdp_transposed[1:]  # 기존의 첫 번째 행 제거\n",
    "\n",
    "# 데이터 정제: 분기(Quarters) 열 설정\n",
    "row_gdp_transposed = row_gdp_transposed.rename_axis('분기').reset_index()\n",
    "row_gdp_transposed"
   ]
  },
  {
   "cell_type": "code",
   "execution_count": 28,
   "metadata": {},
   "outputs": [
    {
     "ename": "KeyError",
     "evalue": "\"['분기'] not found in axis\"",
     "output_type": "error",
     "traceback": [
      "\u001b[0;31m---------------------------------------------------------------------------\u001b[0m",
      "\u001b[0;31mKeyError\u001b[0m                                  Traceback (most recent call last)",
      "Cell \u001b[0;32mIn[28], line 6\u001b[0m\n\u001b[1;32m      3\u001b[0m     row_gdp_transposed[col] \u001b[38;5;241m=\u001b[39m pd\u001b[38;5;241m.\u001b[39mto_numeric(row_gdp_transposed[col], errors\u001b[38;5;241m=\u001b[39m\u001b[38;5;124m'\u001b[39m\u001b[38;5;124mcoerce\u001b[39m\u001b[38;5;124m'\u001b[39m)\n\u001b[1;32m      5\u001b[0m \u001b[38;5;66;03m# Shape 판단: 모든 열의 값 개수가 동일해야 함\u001b[39;00m\n\u001b[0;32m----> 6\u001b[0m \u001b[38;5;28;01mif\u001b[39;00m \u001b[38;5;129;01mnot\u001b[39;00m \u001b[43mrow_gdp_transposed\u001b[49m\u001b[38;5;241;43m.\u001b[39;49m\u001b[43mdrop\u001b[49m\u001b[43m(\u001b[49m\u001b[43mcolumns\u001b[49m\u001b[38;5;241;43m=\u001b[39;49m\u001b[38;5;124;43m'\u001b[39;49m\u001b[38;5;124;43m분기\u001b[39;49m\u001b[38;5;124;43m'\u001b[39;49m\u001b[43m)\u001b[49m\u001b[38;5;241m.\u001b[39mshape[\u001b[38;5;241m1\u001b[39m] \u001b[38;5;241m==\u001b[39m \u001b[38;5;241m3\u001b[39m:\n\u001b[1;32m      7\u001b[0m     \u001b[38;5;28;01mraise\u001b[39;00m \u001b[38;5;167;01mValueError\u001b[39;00m(\u001b[38;5;124m\"\u001b[39m\u001b[38;5;124m선택된 지표의 데이터 개수가 동일하지 않습니다!\u001b[39m\u001b[38;5;124m\"\u001b[39m)\n\u001b[1;32m      9\u001b[0m \u001b[38;5;66;03m# 그래프 그리기\u001b[39;00m\n",
      "File \u001b[0;32m/usr/local/lib/python3.11/site-packages/pandas/core/frame.py:5581\u001b[0m, in \u001b[0;36mDataFrame.drop\u001b[0;34m(self, labels, axis, index, columns, level, inplace, errors)\u001b[0m\n\u001b[1;32m   5433\u001b[0m \u001b[38;5;28;01mdef\u001b[39;00m \u001b[38;5;21mdrop\u001b[39m(\n\u001b[1;32m   5434\u001b[0m     \u001b[38;5;28mself\u001b[39m,\n\u001b[1;32m   5435\u001b[0m     labels: IndexLabel \u001b[38;5;241m|\u001b[39m \u001b[38;5;28;01mNone\u001b[39;00m \u001b[38;5;241m=\u001b[39m \u001b[38;5;28;01mNone\u001b[39;00m,\n\u001b[0;32m   (...)\u001b[0m\n\u001b[1;32m   5442\u001b[0m     errors: IgnoreRaise \u001b[38;5;241m=\u001b[39m \u001b[38;5;124m\"\u001b[39m\u001b[38;5;124mraise\u001b[39m\u001b[38;5;124m\"\u001b[39m,\n\u001b[1;32m   5443\u001b[0m ) \u001b[38;5;241m-\u001b[39m\u001b[38;5;241m>\u001b[39m DataFrame \u001b[38;5;241m|\u001b[39m \u001b[38;5;28;01mNone\u001b[39;00m:\n\u001b[1;32m   5444\u001b[0m \u001b[38;5;250m    \u001b[39m\u001b[38;5;124;03m\"\"\"\u001b[39;00m\n\u001b[1;32m   5445\u001b[0m \u001b[38;5;124;03m    Drop specified labels from rows or columns.\u001b[39;00m\n\u001b[1;32m   5446\u001b[0m \n\u001b[0;32m   (...)\u001b[0m\n\u001b[1;32m   5579\u001b[0m \u001b[38;5;124;03m            weight  1.0     0.8\u001b[39;00m\n\u001b[1;32m   5580\u001b[0m \u001b[38;5;124;03m    \"\"\"\u001b[39;00m\n\u001b[0;32m-> 5581\u001b[0m     \u001b[38;5;28;01mreturn\u001b[39;00m \u001b[38;5;28;43msuper\u001b[39;49m\u001b[43m(\u001b[49m\u001b[43m)\u001b[49m\u001b[38;5;241;43m.\u001b[39;49m\u001b[43mdrop\u001b[49m\u001b[43m(\u001b[49m\n\u001b[1;32m   5582\u001b[0m \u001b[43m        \u001b[49m\u001b[43mlabels\u001b[49m\u001b[38;5;241;43m=\u001b[39;49m\u001b[43mlabels\u001b[49m\u001b[43m,\u001b[49m\n\u001b[1;32m   5583\u001b[0m \u001b[43m        \u001b[49m\u001b[43maxis\u001b[49m\u001b[38;5;241;43m=\u001b[39;49m\u001b[43maxis\u001b[49m\u001b[43m,\u001b[49m\n\u001b[1;32m   5584\u001b[0m \u001b[43m        \u001b[49m\u001b[43mindex\u001b[49m\u001b[38;5;241;43m=\u001b[39;49m\u001b[43mindex\u001b[49m\u001b[43m,\u001b[49m\n\u001b[1;32m   5585\u001b[0m \u001b[43m        \u001b[49m\u001b[43mcolumns\u001b[49m\u001b[38;5;241;43m=\u001b[39;49m\u001b[43mcolumns\u001b[49m\u001b[43m,\u001b[49m\n\u001b[1;32m   5586\u001b[0m \u001b[43m        \u001b[49m\u001b[43mlevel\u001b[49m\u001b[38;5;241;43m=\u001b[39;49m\u001b[43mlevel\u001b[49m\u001b[43m,\u001b[49m\n\u001b[1;32m   5587\u001b[0m \u001b[43m        \u001b[49m\u001b[43minplace\u001b[49m\u001b[38;5;241;43m=\u001b[39;49m\u001b[43minplace\u001b[49m\u001b[43m,\u001b[49m\n\u001b[1;32m   5588\u001b[0m \u001b[43m        \u001b[49m\u001b[43merrors\u001b[49m\u001b[38;5;241;43m=\u001b[39;49m\u001b[43merrors\u001b[49m\u001b[43m,\u001b[49m\n\u001b[1;32m   5589\u001b[0m \u001b[43m    \u001b[49m\u001b[43m)\u001b[49m\n",
      "File \u001b[0;32m/usr/local/lib/python3.11/site-packages/pandas/core/generic.py:4788\u001b[0m, in \u001b[0;36mNDFrame.drop\u001b[0;34m(self, labels, axis, index, columns, level, inplace, errors)\u001b[0m\n\u001b[1;32m   4786\u001b[0m \u001b[38;5;28;01mfor\u001b[39;00m axis, labels \u001b[38;5;129;01min\u001b[39;00m axes\u001b[38;5;241m.\u001b[39mitems():\n\u001b[1;32m   4787\u001b[0m     \u001b[38;5;28;01mif\u001b[39;00m labels \u001b[38;5;129;01mis\u001b[39;00m \u001b[38;5;129;01mnot\u001b[39;00m \u001b[38;5;28;01mNone\u001b[39;00m:\n\u001b[0;32m-> 4788\u001b[0m         obj \u001b[38;5;241m=\u001b[39m \u001b[43mobj\u001b[49m\u001b[38;5;241;43m.\u001b[39;49m\u001b[43m_drop_axis\u001b[49m\u001b[43m(\u001b[49m\u001b[43mlabels\u001b[49m\u001b[43m,\u001b[49m\u001b[43m \u001b[49m\u001b[43maxis\u001b[49m\u001b[43m,\u001b[49m\u001b[43m \u001b[49m\u001b[43mlevel\u001b[49m\u001b[38;5;241;43m=\u001b[39;49m\u001b[43mlevel\u001b[49m\u001b[43m,\u001b[49m\u001b[43m \u001b[49m\u001b[43merrors\u001b[49m\u001b[38;5;241;43m=\u001b[39;49m\u001b[43merrors\u001b[49m\u001b[43m)\u001b[49m\n\u001b[1;32m   4790\u001b[0m \u001b[38;5;28;01mif\u001b[39;00m inplace:\n\u001b[1;32m   4791\u001b[0m     \u001b[38;5;28mself\u001b[39m\u001b[38;5;241m.\u001b[39m_update_inplace(obj)\n",
      "File \u001b[0;32m/usr/local/lib/python3.11/site-packages/pandas/core/generic.py:4830\u001b[0m, in \u001b[0;36mNDFrame._drop_axis\u001b[0;34m(self, labels, axis, level, errors, only_slice)\u001b[0m\n\u001b[1;32m   4828\u001b[0m         new_axis \u001b[38;5;241m=\u001b[39m axis\u001b[38;5;241m.\u001b[39mdrop(labels, level\u001b[38;5;241m=\u001b[39mlevel, errors\u001b[38;5;241m=\u001b[39merrors)\n\u001b[1;32m   4829\u001b[0m     \u001b[38;5;28;01melse\u001b[39;00m:\n\u001b[0;32m-> 4830\u001b[0m         new_axis \u001b[38;5;241m=\u001b[39m \u001b[43maxis\u001b[49m\u001b[38;5;241;43m.\u001b[39;49m\u001b[43mdrop\u001b[49m\u001b[43m(\u001b[49m\u001b[43mlabels\u001b[49m\u001b[43m,\u001b[49m\u001b[43m \u001b[49m\u001b[43merrors\u001b[49m\u001b[38;5;241;43m=\u001b[39;49m\u001b[43merrors\u001b[49m\u001b[43m)\u001b[49m\n\u001b[1;32m   4831\u001b[0m     indexer \u001b[38;5;241m=\u001b[39m axis\u001b[38;5;241m.\u001b[39mget_indexer(new_axis)\n\u001b[1;32m   4833\u001b[0m \u001b[38;5;66;03m# Case for non-unique axis\u001b[39;00m\n\u001b[1;32m   4834\u001b[0m \u001b[38;5;28;01melse\u001b[39;00m:\n",
      "File \u001b[0;32m/usr/local/lib/python3.11/site-packages/pandas/core/indexes/base.py:7070\u001b[0m, in \u001b[0;36mIndex.drop\u001b[0;34m(self, labels, errors)\u001b[0m\n\u001b[1;32m   7068\u001b[0m \u001b[38;5;28;01mif\u001b[39;00m mask\u001b[38;5;241m.\u001b[39many():\n\u001b[1;32m   7069\u001b[0m     \u001b[38;5;28;01mif\u001b[39;00m errors \u001b[38;5;241m!=\u001b[39m \u001b[38;5;124m\"\u001b[39m\u001b[38;5;124mignore\u001b[39m\u001b[38;5;124m\"\u001b[39m:\n\u001b[0;32m-> 7070\u001b[0m         \u001b[38;5;28;01mraise\u001b[39;00m \u001b[38;5;167;01mKeyError\u001b[39;00m(\u001b[38;5;124mf\u001b[39m\u001b[38;5;124m\"\u001b[39m\u001b[38;5;132;01m{\u001b[39;00mlabels[mask]\u001b[38;5;241m.\u001b[39mtolist()\u001b[38;5;132;01m}\u001b[39;00m\u001b[38;5;124m not found in axis\u001b[39m\u001b[38;5;124m\"\u001b[39m)\n\u001b[1;32m   7071\u001b[0m     indexer \u001b[38;5;241m=\u001b[39m indexer[\u001b[38;5;241m~\u001b[39mmask]\n\u001b[1;32m   7072\u001b[0m \u001b[38;5;28;01mreturn\u001b[39;00m \u001b[38;5;28mself\u001b[39m\u001b[38;5;241m.\u001b[39mdelete(indexer)\n",
      "\u001b[0;31mKeyError\u001b[0m: \"['분기'] not found in axis\""
     ]
    }
   ],
   "source": [
    "# 데이터 타입 변환\n",
    "for col in row_gdp_transposed.columns[1:]:\n",
    "    row_gdp_transposed[col] = pd.to_numeric(row_gdp_transposed[col], errors='coerce')\n",
    "\n",
    "# Shape 판단: 모든 열의 값 개수가 동일해야 함\n",
    "if not row_gdp_transposed.drop(columns='분기').shape[1] == 3:\n",
    "    raise ValueError(\"선택된 지표의 데이터 개수가 동일하지 않습니다!\")\n",
    "\n",
    "# 그래프 그리기\n",
    "plt.figure(figsize=(14, 8))\n",
    "\n",
    "# 3개의 그래프 출력 (하나의 그래프에 여러 개 혹은 각각 나눠서)\n",
    "for i, col in enumerate(row_gdp_transposed.columns[1:], start=1):\n",
    "    plt.subplot(3, 1, i)  # 3행 1열 서브플롯\n",
    "    plt.plot(row_gdp_transposed['분기'], row_gdp_transposed[col], marker='o', label=col)\n",
    "    plt.axhline(0, color='gray', linestyle='--', linewidth=0.7)\n",
    "    plt.title(f\"{col} 추이\")\n",
    "    plt.xlabel(\"분기\")\n",
    "    plt.ylabel(\"지수 값\")\n",
    "    plt.xticks(rotation=45)\n",
    "    plt.legend()\n",
    "\n",
    "plt.tight_layout()\n",
    "plt.show()"
   ]
  },
  {
   "cell_type": "code",
   "execution_count": null,
   "metadata": {},
   "outputs": [],
   "source": [
    "\n",
    "# 데이터 읽기\n",
    "file_path = '../datasets/GDP.xlsx'\n",
    "df_gdp = pd.read_excel(file_path, header=0)\n",
    "\n",
    "# 필요한 행 선택: 27~29행이 GDP와 관련된 데이터\n",
    "row_gdp = df_gdp.iloc[27:30]  # 3개의 지표를 선택 (GDP 및 2개의 관련 지표)\n",
    "\n",
    "# Transpose 처리: 행과 열 전환\n",
    "row_gdp_transposed = row_gdp.transpose()\n",
    "\n",
    "# 첫 번째 행과 두 번째 행을 각각 인덱스와 열 이름으로 설정\n",
    "row_gdp_transposed.columns = row_gdp_transposed.iloc[0]  # 첫 번째 행을 열 이름으로\n",
    "row_gdp_transposed = row_gdp_transposed[1:]  # 기존의 첫 번째 행 제거\n",
    "\n",
    "# 데이터 정제: 분기(Quarters) 열 설정\n",
    "row_gdp_transposed = row_gdp_transposed.rename_axis('분기').reset_index()\n",
    "\n",
    "# 데이터 타입 변환\n",
    "for col in row_gdp_transposed.columns[1:]:\n",
    "    row_gdp_transposed[col] = pd.to_numeric(row_gdp_transposed[col], errors='coerce')\n",
    "\n",
    "# Shape 판단: 모든 열의 값 개수가 동일해야 함\n",
    "if not row_gdp_transposed.drop(columns='분기').shape[1] == 3:\n",
    "    raise ValueError(\"선택된 지표의 데이터 개수가 동일하지 않습니다!\")\n",
    "\n",
    "# 그래프 그리기\n",
    "plt.figure(figsize=(14, 8))\n",
    "\n",
    "# 3개의 그래프 출력 (하나의 그래프에 여러 개 혹은 각각 나눠서)\n",
    "for i, col in enumerate(row_gdp_transposed.columns[1:], start=1):\n",
    "    plt.subplot(3, 1, i)  # 3행 1열 서브플롯\n",
    "    plt.plot(row_gdp_transposed['분기'], row_gdp_transposed[col], marker='o', label=col)\n",
    "    plt.axhline(0, color='gray', linestyle='--', linewidth=0.7)\n",
    "    plt.title(f\"{col} 추이\")\n",
    "    plt.xlabel(\"분기\")\n",
    "    plt.ylabel(\"지수 값\")\n",
    "    plt.xticks(rotation=45)\n",
    "    plt.legend()\n",
    "\n",
    "plt.tight_layout()\n",
    "plt.show()\n"
   ]
  }
 ],
 "metadata": {
  "kernelspec": {
   "display_name": "Python 3",
   "language": "python",
   "name": "python3"
  },
  "language_info": {
   "codemirror_mode": {
    "name": "ipython",
    "version": 3
   },
   "file_extension": ".py",
   "mimetype": "text/x-python",
   "name": "python",
   "nbconvert_exporter": "python",
   "pygments_lexer": "ipython3",
   "version": "3.11.11"
  }
 },
 "nbformat": 4,
 "nbformat_minor": 2
}
