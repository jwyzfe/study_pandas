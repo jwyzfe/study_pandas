{
 "cells": [
  {
   "cell_type": "code",
   "execution_count": 12,
   "metadata": {},
   "outputs": [],
   "source": [
    "import pandas as pd\n",
    "from pykrx import stock\n",
    "import matplotlib.pyplot as plt"
   ]
  },
  {
   "cell_type": "code",
   "execution_count": 13,
   "metadata": {},
   "outputs": [],
   "source": [
    "df_kosdaq_150 = stock.get_market_ohlcv_by_date('20101001', '20241230', '229200')"
   ]
  },
  {
   "cell_type": "code",
   "execution_count": 14,
   "metadata": {},
   "outputs": [
    {
     "data": {
      "text/html": [
       "<div>\n",
       "<style scoped>\n",
       "    .dataframe tbody tr th:only-of-type {\n",
       "        vertical-align: middle;\n",
       "    }\n",
       "\n",
       "    .dataframe tbody tr th {\n",
       "        vertical-align: top;\n",
       "    }\n",
       "\n",
       "    .dataframe thead th {\n",
       "        text-align: right;\n",
       "    }\n",
       "</style>\n",
       "<table border=\"1\" class=\"dataframe\">\n",
       "  <thead>\n",
       "    <tr style=\"text-align: right;\">\n",
       "      <th></th>\n",
       "      <th>시가</th>\n",
       "      <th>고가</th>\n",
       "      <th>저가</th>\n",
       "      <th>종가</th>\n",
       "      <th>거래량</th>\n",
       "      <th>등락률</th>\n",
       "      <th>변동폭</th>\n",
       "    </tr>\n",
       "    <tr>\n",
       "      <th>날짜</th>\n",
       "      <th></th>\n",
       "      <th></th>\n",
       "      <th></th>\n",
       "      <th></th>\n",
       "      <th></th>\n",
       "      <th></th>\n",
       "      <th></th>\n",
       "    </tr>\n",
       "  </thead>\n",
       "  <tbody>\n",
       "    <tr>\n",
       "      <th>2015-10-01</th>\n",
       "      <td>10161</td>\n",
       "      <td>10161</td>\n",
       "      <td>10094</td>\n",
       "      <td>10101</td>\n",
       "      <td>31634</td>\n",
       "      <td>NaN</td>\n",
       "      <td>67</td>\n",
       "    </tr>\n",
       "    <tr>\n",
       "      <th>2015-10-02</th>\n",
       "      <td>10135</td>\n",
       "      <td>10159</td>\n",
       "      <td>10135</td>\n",
       "      <td>10148</td>\n",
       "      <td>63224</td>\n",
       "      <td>0.465300</td>\n",
       "      <td>24</td>\n",
       "    </tr>\n",
       "    <tr>\n",
       "      <th>2015-10-05</th>\n",
       "      <td>10255</td>\n",
       "      <td>10265</td>\n",
       "      <td>10210</td>\n",
       "      <td>10231</td>\n",
       "      <td>43154</td>\n",
       "      <td>0.817895</td>\n",
       "      <td>55</td>\n",
       "    </tr>\n",
       "    <tr>\n",
       "      <th>2015-10-06</th>\n",
       "      <td>10248</td>\n",
       "      <td>10274</td>\n",
       "      <td>10172</td>\n",
       "      <td>10176</td>\n",
       "      <td>42399</td>\n",
       "      <td>-0.537582</td>\n",
       "      <td>102</td>\n",
       "    </tr>\n",
       "  </tbody>\n",
       "</table>\n",
       "</div>"
      ],
      "text/plain": [
       "               시가     고가     저가     종가    거래량       등락률  변동폭\n",
       "날짜                                                          \n",
       "2015-10-01  10161  10161  10094  10101  31634       NaN   67\n",
       "2015-10-02  10135  10159  10135  10148  63224  0.465300   24\n",
       "2015-10-05  10255  10265  10210  10231  43154  0.817895   55\n",
       "2015-10-06  10248  10274  10172  10176  42399 -0.537582  102"
      ]
     },
     "execution_count": 14,
     "metadata": {},
     "output_type": "execute_result"
    }
   ],
   "source": [
    "df_kosdaq_150['변동폭'] = df_kosdaq_150['고가'] - df_kosdaq_150['저가']\n",
    "df_kosdaq_150.head(4)"
   ]
  },
  {
   "cell_type": "code",
   "execution_count": 15,
   "metadata": {},
   "outputs": [
    {
     "data": {
      "text/html": [
       "<div>\n",
       "<style scoped>\n",
       "    .dataframe tbody tr th:only-of-type {\n",
       "        vertical-align: middle;\n",
       "    }\n",
       "\n",
       "    .dataframe tbody tr th {\n",
       "        vertical-align: top;\n",
       "    }\n",
       "\n",
       "    .dataframe thead th {\n",
       "        text-align: right;\n",
       "    }\n",
       "</style>\n",
       "<table border=\"1\" class=\"dataframe\">\n",
       "  <thead>\n",
       "    <tr style=\"text-align: right;\">\n",
       "      <th></th>\n",
       "      <th>시가</th>\n",
       "      <th>고가</th>\n",
       "      <th>저가</th>\n",
       "      <th>종가</th>\n",
       "      <th>거래량</th>\n",
       "      <th>등락률</th>\n",
       "      <th>변동폭</th>\n",
       "      <th>전일변동폭</th>\n",
       "    </tr>\n",
       "    <tr>\n",
       "      <th>날짜</th>\n",
       "      <th></th>\n",
       "      <th></th>\n",
       "      <th></th>\n",
       "      <th></th>\n",
       "      <th></th>\n",
       "      <th></th>\n",
       "      <th></th>\n",
       "      <th></th>\n",
       "    </tr>\n",
       "  </thead>\n",
       "  <tbody>\n",
       "    <tr>\n",
       "      <th>2015-10-01</th>\n",
       "      <td>10161</td>\n",
       "      <td>10161</td>\n",
       "      <td>10094</td>\n",
       "      <td>10101</td>\n",
       "      <td>31634</td>\n",
       "      <td>NaN</td>\n",
       "      <td>67</td>\n",
       "      <td>NaN</td>\n",
       "    </tr>\n",
       "    <tr>\n",
       "      <th>2015-10-02</th>\n",
       "      <td>10135</td>\n",
       "      <td>10159</td>\n",
       "      <td>10135</td>\n",
       "      <td>10148</td>\n",
       "      <td>63224</td>\n",
       "      <td>0.465300</td>\n",
       "      <td>24</td>\n",
       "      <td>67.0</td>\n",
       "    </tr>\n",
       "    <tr>\n",
       "      <th>2015-10-05</th>\n",
       "      <td>10255</td>\n",
       "      <td>10265</td>\n",
       "      <td>10210</td>\n",
       "      <td>10231</td>\n",
       "      <td>43154</td>\n",
       "      <td>0.817895</td>\n",
       "      <td>55</td>\n",
       "      <td>24.0</td>\n",
       "    </tr>\n",
       "    <tr>\n",
       "      <th>2015-10-06</th>\n",
       "      <td>10248</td>\n",
       "      <td>10274</td>\n",
       "      <td>10172</td>\n",
       "      <td>10176</td>\n",
       "      <td>42399</td>\n",
       "      <td>-0.537582</td>\n",
       "      <td>102</td>\n",
       "      <td>55.0</td>\n",
       "    </tr>\n",
       "  </tbody>\n",
       "</table>\n",
       "</div>"
      ],
      "text/plain": [
       "               시가     고가     저가     종가    거래량       등락률  변동폭  전일변동폭\n",
       "날짜                                                                 \n",
       "2015-10-01  10161  10161  10094  10101  31634       NaN   67    NaN\n",
       "2015-10-02  10135  10159  10135  10148  63224  0.465300   24   67.0\n",
       "2015-10-05  10255  10265  10210  10231  43154  0.817895   55   24.0\n",
       "2015-10-06  10248  10274  10172  10176  42399 -0.537582  102   55.0"
      ]
     },
     "execution_count": 15,
     "metadata": {},
     "output_type": "execute_result"
    }
   ],
   "source": [
    "df_kosdaq_150['전일변동폭'] = df_kosdaq_150['변동폭'].shift(periods=1)\n",
    "df_kosdaq_150.head(4)"
   ]
  },
  {
   "cell_type": "code",
   "execution_count": 17,
   "metadata": {},
   "outputs": [],
   "source": [
    " # 매수 조건: 고가가 목표가 이상일 경우\n",
    "df_kosdaq_150['매수'] = df_kosdaq_150['고가'] >= df_kosdaq_150['목표가']"
   ]
  },
  {
   "cell_type": "code",
   "execution_count": 21,
   "metadata": {},
   "outputs": [],
   "source": [
    "import numpy as np\n",
    "\n",
    "# K값 범위 설정\n",
    "k_values = np.arange(0.1, 1.1, 0.1)\n",
    "results = []\n",
    "\n",
    "for k in k_values:\n",
    "    df[\"목표가\"] = df[\"시가\"] + (df[\"변동폭\"] * k)\n",
    "    df[\"매수\"] = df[\"고가\"] >= df[\"목표가\"]  # 매수 조건\n",
    "    df[\"수익률\"] = np.where(df[\"매수\"], (df[\"종가\"] - df[\"목표가\"]) / df[\"목표가\"], 0)\n",
    "    \n",
    "    # 누적 수익률 계산\n",
    "    cumulative_return = (1 + df[\"수익률\"]).cumprod().iloc[-1] - 1\n",
    "    results.append({\"K값\": k, \"누적 수익률\": cumulative_return})"
   ]
  },
  {
   "cell_type": "code",
   "execution_count": 22,
   "metadata": {},
   "outputs": [
    {
     "name": "stdout",
     "output_type": "stream",
     "text": [
      "최적 K값: 0.1\n",
      "최적 K값의 누적 수익률: 0.2431617086881417\n",
      "단순 보유 전략의 누적 수익률: 0.35971321882001495\n",
      "단순 보유보다 낮은 K값들:\n",
      "     K값    누적 수익률\n",
      "0  0.1  0.243162\n",
      "1  0.2  0.159976\n",
      "2  0.3  0.082947\n",
      "3  0.4  0.032572\n",
      "7  0.8 -0.012214\n",
      "6  0.7 -0.017832\n",
      "8  0.9 -0.023367\n",
      "4  0.5 -0.027834\n",
      "9  1.0 -0.034333\n",
      "5  0.6 -0.046459\n"
     ]
    }
   ],
   "source": [
    "\n",
    "#\n",
    "# 결과 정렬 및 최적 K값 선택\n",
    "result_df = pd.DataFrame(results).sort_values(by=\"누적 수익률\", ascending=False)\n",
    "optimal_k = result_df.iloc[0]\n",
    "\n",
    "# 단순 보유 전략 계산\n",
    "df[\"단순 수익률\"] = (df[\"종가\"] - df[\"시가\"]) / df[\"시가\"]\n",
    "simple_cumulative_return = (1 + df[\"단순 수익률\"]).cumprod().iloc[-1] - 1\n",
    "\n",
    "# 결과 출력\n",
    "print(\"최적 K값:\", optimal_k[\"K값\"])\n",
    "print(\"최적 K값의 누적 수익률:\", optimal_k[\"누적 수익률\"])\n",
    "print(\"단순 보유 전략의 누적 수익률:\", simple_cumulative_return)\n",
    "\n",
    "# 낮은 K값 필터링\n",
    "low_k_values = result_df[result_df[\"누적 수익률\"] < simple_cumulative_return]\n",
    "print(\"단순 보유보다 낮은 K값들:\\n\", low_k_values)\n"
   ]
  },
  {
   "cell_type": "code",
   "execution_count": null,
   "metadata": {},
   "outputs": [
    {
     "ename": "NameError",
     "evalue": "name 'optimal_k' is not defined",
     "output_type": "error",
     "traceback": [
      "\u001b[0;31m---------------------------------------------------------------------------\u001b[0m",
      "\u001b[0;31mNameError\u001b[0m                                 Traceback (most recent call last)",
      "Cell \u001b[0;32mIn[2], line 39\u001b[0m\n\u001b[1;32m     36\u001b[0m result_df \u001b[38;5;241m=\u001b[39m pd\u001b[38;5;241m.\u001b[39mDataFrame(results)\u001b[38;5;241m.\u001b[39msort_values(by\u001b[38;5;241m=\u001b[39m\u001b[38;5;124m'\u001b[39m\u001b[38;5;124m누적 수익률\u001b[39m\u001b[38;5;124m'\u001b[39m, ascending\u001b[38;5;241m=\u001b[39m\u001b[38;5;28;01mFalse\u001b[39;00m)\n\u001b[1;32m     38\u001b[0m \u001b[38;5;66;03m# 결과 출력\u001b[39;00m\n\u001b[0;32m---> 39\u001b[0m \u001b[38;5;28mprint\u001b[39m(\u001b[38;5;124m\"\u001b[39m\u001b[38;5;124m최적 K값:\u001b[39m\u001b[38;5;124m\"\u001b[39m, \u001b[43moptimal_k\u001b[49m[\u001b[38;5;124m\"\u001b[39m\u001b[38;5;124mK값\u001b[39m\u001b[38;5;124m\"\u001b[39m])\n\u001b[1;32m     40\u001b[0m \u001b[38;5;28mprint\u001b[39m(\u001b[38;5;124m\"\u001b[39m\u001b[38;5;124m최적 K값의 누적 수익률:\u001b[39m\u001b[38;5;124m\"\u001b[39m, optimal_k[\u001b[38;5;124m\"\u001b[39m\u001b[38;5;124m누적 수익률\u001b[39m\u001b[38;5;124m\"\u001b[39m])\n\u001b[1;32m     41\u001b[0m \u001b[38;5;28mprint\u001b[39m(\u001b[38;5;124m\"\u001b[39m\u001b[38;5;124m단순 보유 전략의 누적 수익률:\u001b[39m\u001b[38;5;124m\"\u001b[39m, simple_cumulative_return)\n",
      "\u001b[0;31mNameError\u001b[0m: name 'optimal_k' is not defined"
     ]
    }
   ],
   "source": []
  },
  {
   "cell_type": "code",
   "execution_count": null,
   "metadata": {},
   "outputs": [],
   "source": []
  }
 ],
 "metadata": {
  "kernelspec": {
   "display_name": "Python 3",
   "language": "python",
   "name": "python3"
  },
  "language_info": {
   "codemirror_mode": {
    "name": "ipython",
    "version": 3
   },
   "file_extension": ".py",
   "mimetype": "text/x-python",
   "name": "python",
   "nbconvert_exporter": "python",
   "pygments_lexer": "ipython3",
   "version": "3.11.11"
  }
 },
 "nbformat": 4,
 "nbformat_minor": 2
}
