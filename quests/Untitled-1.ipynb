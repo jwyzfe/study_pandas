{
 "cells": [
  {
   "cell_type": "markdown",
   "metadata": {},
   "source": [
    "# Import Required Libraries\n",
    "Import the necessary libraries, including pandas, numpy, and matplotlib."
   ]
  },
  {
   "cell_type": "code",
   "execution_count": null,
   "metadata": {},
   "outputs": [],
   "source": [
    "# Import Required Libraries\n",
    "import pandas as pd\n",
    "import numpy as np\n",
    "import matplotlib.pyplot as plt"
   ]
  },
  {
   "cell_type": "markdown",
   "metadata": {},
   "source": [
    "# Load Stock Data\n",
    "Load the stock data for indices and selected stocks using pandas."
   ]
  },
  {
   "cell_type": "code",
   "execution_count": null,
   "metadata": {},
   "outputs": [],
   "source": [
    "# Load Stock Data\n",
    "# Load the stock data for indices and selected stocks using pandas.\n",
    "\n",
    "# Define the list of stock symbols and indices\n",
    "symbols = ['AAPL', 'MSFT', 'GOOGL', 'AMZN']\n",
    "indices = ['^GSPC', '^DJI', '^IXIC']\n",
    "\n",
    "# Define the date range for the data\n",
    "start_date = '2022-01-01'\n",
    "end_date = '2022-12-31'\n",
    "\n",
    "# Function to load stock data from Yahoo Finance\n",
    "def load_stock_data(symbols, start_date, end_date):\n",
    "    stock_data = {}\n",
    "    for symbol in symbols:\n",
    "        stock_data[symbol] = pd.read_csv(f'https://query1.finance.yahoo.com/v7/finance/download/{symbol}?period1={(pd.Timestamp(start_date) - pd.Timestamp(\"1970-01-01\")) // pd.Timedelta(\"1s\")}&period2={(pd.Timestamp(end_date) - pd.Timestamp(\"1970-01-01\")) // pd.Timedelta(\"1s\")}&interval=1d&events=history')\n",
    "    return stock_data\n",
    "\n",
    "# Load data for selected stocks and indices\n",
    "stock_data = load_stock_data(symbols + indices, start_date, end_date)\n",
    "\n",
    "# Display the first few rows of the data for one of the stocks\n",
    "stock_data['AAPL'].head()"
   ]
  },
  {
   "cell_type": "markdown",
   "metadata": {},
   "source": [
    "# Calculate Percentage Change\n",
    "Calculate the percentage change using the formula: (today's close - previous close) / previous close * 100."
   ]
  },
  {
   "cell_type": "code",
   "execution_count": null,
   "metadata": {},
   "outputs": [],
   "source": [
    "# Calculate Percentage Change\n",
    "\n",
    "# Function to calculate percentage change\n",
    "def calculate_percentage_change(data):\n",
    "    data['Percentage Change'] = (data['Close'] - data['Close'].shift(1)) / data['Close'].shift(1) * 100\n",
    "    return data\n",
    "\n",
    "# Apply the function to all stocks and indices\n",
    "for symbol in symbols + indices:\n",
    "    stock_data[symbol] = calculate_percentage_change(stock_data[symbol])\n",
    "\n",
    "# Display the first few rows of the data with percentage change for one of the stocks\n",
    "stock_data['AAPL'].head()"
   ]
  },
  {
   "cell_type": "markdown",
   "metadata": {},
   "source": [
    "# Compare 1-Day, 5-Day, 10-Day Percentage Changes\n",
    "Compare the percentage changes over 1-day, 5-day, and 10-day periods."
   ]
  },
  {
   "cell_type": "code",
   "execution_count": null,
   "metadata": {},
   "outputs": [],
   "source": [
    "# Compare 1-Day, 5-Day, 10-Day Percentage Changes\n",
    "\n",
    "# Function to calculate percentage change over different periods\n",
    "def calculate_periodic_percentage_change(data, periods):\n",
    "    for period in periods:\n",
    "        column_name = f'{period}-Day Change'\n",
    "        data[column_name] = (data['Close'] - data['Close'].shift(period)) / data['Close'].shift(period) * 100\n",
    "    return data\n",
    "\n",
    "# Define the periods for comparison\n",
    "periods = [1, 5, 10]\n",
    "\n",
    "# Apply the function to all stocks and indices\n",
    "for symbol in symbols + indices:\n",
    "    stock_data[symbol] = calculate_periodic_percentage_change(stock_data[symbol], periods)\n",
    "\n",
    "# Display the first few rows of the data with periodic percentage changes for one of the stocks\n",
    "stock_data['AAPL'].head()"
   ]
  },
  {
   "cell_type": "markdown",
   "metadata": {},
   "source": [
    "# Plot Charts\n",
    "Use matplotlib to plot the percentage changes for visual comparison."
   ]
  },
  {
   "cell_type": "code",
   "execution_count": null,
   "metadata": {},
   "outputs": [],
   "source": [
    "# Plot Charts\n",
    "\n",
    "# Function to plot percentage changes\n",
    "def plot_percentage_changes(stock_data, symbols, indices, periods):\n",
    "    plt.figure(figsize=(14, 7))\n",
    "    \n",
    "    for symbol in symbols + indices:\n",
    "        for period in periods:\n",
    "            plt.plot(stock_data[symbol]['Date'], stock_data[symbol][f'{period}-Day Change'], label=f'{symbol} {period}-Day Change')\n",
    "    \n",
    "    plt.title('Percentage Changes of Stocks and Indices')\n",
    "    plt.xlabel('Date')\n",
    "    plt.ylabel('Percentage Change')\n",
    "    plt.legend()\n",
    "    plt.grid(True)\n",
    "    plt.show()\n",
    "\n",
    "# Plot the percentage changes for visual comparison\n",
    "plot_percentage_changes(stock_data, symbols, indices, periods)"
   ]
  }
 ],
 "metadata": {
  "language_info": {
   "name": "python"
  }
 },
 "nbformat": 4,
 "nbformat_minor": 2
}
